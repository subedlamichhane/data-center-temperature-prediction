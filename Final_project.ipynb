{
 "cells": [
  {
   "cell_type": "code",
   "execution_count": 2,
   "metadata": {},
   "outputs": [],
   "source": [
    "import numpy as np\n",
    "import pandas as pd\n",
    "import tensorflow as tf \n",
    "import tensorflow.keras.layers as layer\n",
    "from tensorflow.keras.layers.experimental import preprocessing\n",
    "from math import floor, ceil\n",
    "from tensorflow import keras\n",
    "from tensorflow import keras\n",
    "from sklearn.model_selection import train_test_split\n",
    "from keras.callbacks import ModelCheckpoint\n",
    "import matplotlib.pyplot as plt\n",
    "from sklearn.linear_model import LinearRegression"
   ]
  },
  {
   "cell_type": "code",
   "execution_count": 3,
   "metadata": {},
   "outputs": [],
   "source": [
    "H=np.random.normal(loc=0.0001, scale=0.000009, size=(5000,5000))"
   ]
  },
  {
   "cell_type": "code",
   "execution_count": 4,
   "metadata": {},
   "outputs": [
    {
     "name": "stdout",
     "output_type": "stream",
     "text": [
      "[[1.12092988e-04 9.29562030e-05 8.90507007e-05 ... 1.02005556e-04\n",
      "  9.52024135e-05 9.23095731e-05]\n",
      " [1.01637280e-04 1.12479553e-04 1.02920972e-04 ... 9.86044248e-05\n",
      "  1.01090561e-04 1.09362494e-04]\n",
      " [9.06685590e-05 9.93587673e-05 1.05058424e-04 ... 1.02390496e-04\n",
      "  9.12811581e-05 9.65448039e-05]\n",
      " ...\n",
      " [1.05660190e-04 1.01462335e-04 1.03062777e-04 ... 8.94085177e-05\n",
      "  9.71474977e-05 1.03885780e-04]\n",
      " [9.74925465e-05 1.15967627e-04 9.19032893e-05 ... 8.75349563e-05\n",
      "  9.51667793e-05 1.05854381e-04]\n",
      " [1.08282855e-04 9.98874935e-05 9.97217478e-05 ... 9.45090045e-05\n",
      "  1.00054886e-04 9.51730542e-05]]\n"
     ]
    }
   ],
   "source": [
    "print(H)"
   ]
  },
  {
   "cell_type": "code",
   "execution_count": 5,
   "metadata": {},
   "outputs": [],
   "source": [
    "#Tsup=np.random.normal(loc=65, scale=3, size=(5000,1))"
   ]
  },
  {
   "cell_type": "code",
   "execution_count": 6,
   "metadata": {},
   "outputs": [],
   "source": [
    "Tsup=np.random.uniform(low=55, high=75, size=(5000,1))"
   ]
  },
  {
   "cell_type": "code",
   "execution_count": 7,
   "metadata": {},
   "outputs": [
    {
     "name": "stdout",
     "output_type": "stream",
     "text": [
      "[[67.19622304]\n",
      " [70.62583411]\n",
      " [63.03608583]\n",
      " ...\n",
      " [58.97087691]\n",
      " [58.63280036]\n",
      " [69.4401678 ]]\n"
     ]
    }
   ],
   "source": [
    "print(Tsup)\n"
   ]
  },
  {
   "cell_type": "code",
   "execution_count": 8,
   "metadata": {},
   "outputs": [
    {
     "name": "stdout",
     "output_type": "stream",
     "text": [
      "range of Tsup is:  [55.0009298] to [74.99962171]\n"
     ]
    }
   ],
   "source": [
    "print(\"range of Tsup is: \",min(Tsup), \"to\", max(Tsup))"
   ]
  },
  {
   "cell_type": "code",
   "execution_count": 12,
   "metadata": {},
   "outputs": [],
   "source": [
    "P=np.random.uniform(low=7, high=20, size=(5000,1))"
   ]
  },
  {
   "cell_type": "code",
   "execution_count": 10,
   "metadata": {},
   "outputs": [],
   "source": [
    "P=np.random.normal(loc=15, scale=2, size=(5000,1))"
   ]
  },
  {
   "cell_type": "code",
   "execution_count": 13,
   "metadata": {
    "scrolled": true
   },
   "outputs": [
    {
     "name": "stdout",
     "output_type": "stream",
     "text": [
      "[[ 8.6098098 ]\n",
      " [15.2070558 ]\n",
      " [15.41757284]\n",
      " ...\n",
      " [10.81485576]\n",
      " [ 9.5914414 ]\n",
      " [18.96289432]]\n"
     ]
    }
   ],
   "source": [
    "print(P)"
   ]
  },
  {
   "cell_type": "code",
   "execution_count": 14,
   "metadata": {},
   "outputs": [
    {
     "data": {
      "text/plain": [
       "Text(0.5, 0, 'Value of P in kWh')"
      ]
     },
     "execution_count": 14,
     "metadata": {},
     "output_type": "execute_result"
    },
    {
     "data": {
      "image/png": "[encoded data removed]",
      "text/plain": [
       "<Figure size 432x288 with 1 Axes>"
      ]
     },
     "metadata": {
      "needs_background": "light"
     },
     "output_type": "display_data"
    }
   ],
   "source": [
    "plt.hist(P)\n",
    "plt.ylabel('Number of data')\n",
    "plt.xlabel('Value of P in kWh')\n"
   ]
  },
  {
   "cell_type": "code",
   "execution_count": 15,
   "metadata": {},
   "outputs": [
    {
     "name": "stdout",
     "output_type": "stream",
     "text": [
      "range of P is:  [7.00690308] to [19.99934915]\n"
     ]
    }
   ],
   "source": [
    "print(\"range of P is: \",min(P), \"to\", max(P))"
   ]
  },
  {
   "cell_type": "code",
   "execution_count": 16,
   "metadata": {},
   "outputs": [],
   "source": [
    "addd=np.matmul(H,P)"
   ]
  },
  {
   "cell_type": "code",
   "execution_count": 17,
   "metadata": {},
   "outputs": [
    {
     "name": "stdout",
     "output_type": "stream",
     "text": [
      "[[6.73507133]\n",
      " [6.75070752]\n",
      " [6.74295265]\n",
      " ...\n",
      " [6.74756564]\n",
      " [6.73421846]\n",
      " [6.73561081]]\n"
     ]
    }
   ],
   "source": [
    "print(addd)"
   ]
  },
  {
   "cell_type": "code",
   "execution_count": 18,
   "metadata": {},
   "outputs": [],
   "source": [
    "#noise=np.random.normal(loc=1, scale=1, size=(5000,1))"
   ]
  },
  {
   "cell_type": "code",
   "execution_count": 19,
   "metadata": {},
   "outputs": [],
   "source": [
    "noise=np.random.uniform(low=-3, high=3, size=(5000,1))"
   ]
  },
  {
   "cell_type": "code",
   "execution_count": 20,
   "metadata": {},
   "outputs": [
    {
     "name": "stdout",
     "output_type": "stream",
     "text": [
      "[[ 1.60863615]\n",
      " [ 2.32006517]\n",
      " [ 2.73412673]\n",
      " ...\n",
      " [-0.82090611]\n",
      " [-0.34997492]\n",
      " [-0.75942667]]\n"
     ]
    }
   ],
   "source": [
    "print(noise)"
   ]
  },
  {
   "cell_type": "code",
   "execution_count": 21,
   "metadata": {},
   "outputs": [
    {
     "name": "stdout",
     "output_type": "stream",
     "text": [
      "range of noise is:  [-2.99981082] to [2.99916628]\n"
     ]
    }
   ],
   "source": [
    "print(\"range of noise is: \",min(noise), \"to\", max(noise))"
   ]
  },
  {
   "cell_type": "code",
   "execution_count": 22,
   "metadata": {},
   "outputs": [],
   "source": [
    "Tin_true=Tsup+addd+noise"
   ]
  },
  {
   "cell_type": "code",
   "execution_count": 23,
   "metadata": {},
   "outputs": [
    {
     "name": "stdout",
     "output_type": "stream",
     "text": [
      "[[75.53993052]\n",
      " [79.69660681]\n",
      " [72.51316521]\n",
      " ...\n",
      " [64.89753643]\n",
      " [65.0170439 ]\n",
      " [75.41635194]]\n"
     ]
    }
   ],
   "source": [
    "print(Tin_true)"
   ]
  },
  {
   "cell_type": "code",
   "execution_count": 24,
   "metadata": {},
   "outputs": [
    {
     "name": "stdout",
     "output_type": "stream",
     "text": [
      "range of Tin is:  [59.07312755] to [84.61315778]\n"
     ]
    }
   ],
   "source": [
    "print(\"range of Tin is: \",min(Tin_true), \"to\", max(Tin_true))"
   ]
  },
  {
   "cell_type": "code",
   "execution_count": 25,
   "metadata": {},
   "outputs": [
    {
     "name": "stdout",
     "output_type": "stream",
     "text": [
      "(5000, 1)\n"
     ]
    }
   ],
   "source": [
    "print(Tin_true.shape)"
   ]
  },
  {
   "cell_type": "code",
   "execution_count": 26,
   "metadata": {},
   "outputs": [
    {
     "name": "stdout",
     "output_type": "stream",
     "text": [
      " range of Tin is:  [59.07312755]   to   [84.61315778]\n"
     ]
    }
   ],
   "source": [
    "print(\" range of Tin is: \", min(Tin_true) ,\"  to  \", max(Tin_true) )"
   ]
  },
  {
   "cell_type": "code",
   "execution_count": 885,
   "metadata": {},
   "outputs": [],
   "source": [
    "X=P\n",
    "y=Tin_true"
   ]
  },
  {
   "cell_type": "code",
   "execution_count": 886,
   "metadata": {},
   "outputs": [],
   "source": [
    "X_train, X_test, y_train, y_test = train_test_split(\n",
    "    X, y, test_size=0.10,shuffle=True)\n",
    "X_train, X_val, y_train, y_val = train_test_split(\n",
    "    X_train, y_train, test_size=0.10,shuffle=True)"
   ]
  },
  {
   "cell_type": "code",
   "execution_count": 887,
   "metadata": {},
   "outputs": [
    {
     "name": "stdout",
     "output_type": "stream",
     "text": [
      "(4050, 1)\n",
      "(450, 1)\n",
      "(500, 1)\n"
     ]
    }
   ],
   "source": [
    "print(X_train.shape)\n",
    "print(X_val.shape)\n",
    "print(X_test.shape)"
   ]
  },
  {
   "cell_type": "code",
   "execution_count": 889,
   "metadata": {},
   "outputs": [],
   "source": [
    "#ANN\n",
    "ann=tf.keras.models.Sequential()\n",
    "ann.add(tf.keras.layers.Dense(units=128, activation='relu',input_shape=[1])) \n",
    "ann.add(tf.keras.layers.Dense(units=128, activation='relu'))\n",
    "ann.add(tf.keras.layers.Dense(units=128, activation='relu'))\n",
    "#ann.add(tf.keras.layers.Dense(units=512, activation='tanh'))\n",
    "#ann.add(tf.keras.layers.Dense(units=256, activation='tanh'))\n",
    "#ann.add(tf.keras.layers.Dense(units=128, activation='tanh'))\n",
    "ann.add(tf.keras.layers.Dense(units=1, activation='linear'))"
   ]
  },
  {
   "cell_type": "code",
   "execution_count": 890,
   "metadata": {},
   "outputs": [
    {
     "name": "stdout",
     "output_type": "stream",
     "text": [
      "Model: \"sequential_35\"\n",
      "_________________________________________________________________\n",
      "Layer (type)                 Output Shape              Param #   \n",
      "=================================================================\n",
      "dense_139 (Dense)            (None, 128)               256       \n",
      "_________________________________________________________________\n",
      "dense_140 (Dense)            (None, 128)               16512     \n",
      "_________________________________________________________________\n",
      "dense_141 (Dense)            (None, 128)               16512     \n",
      "_________________________________________________________________\n",
      "dense_142 (Dense)            (None, 1)                 129       \n",
      "=================================================================\n",
      "Total params: 33,409\n",
      "Trainable params: 33,409\n",
      "Non-trainable params: 0\n",
      "_________________________________________________________________\n"
     ]
    }
   ],
   "source": [
    "optimizer=keras.optimizers.Adam(learning_rate=0.0001) #best=0.001\n",
    "ann.compile(optimizer = optimizer, loss = 'mean_absolute_error', metrics = ['mean_absolute_error'])\n",
    "ann.summary()"
   ]
  },
  {
   "cell_type": "code",
   "execution_count": 891,
   "metadata": {},
   "outputs": [],
   "source": [
    "checkpoint_name = './weights/Weights-{epoch:03d}--{val_loss:.5f}.hdf5' \n",
    "checkpoint = ModelCheckpoint(checkpoint_name, monitor='val_loss', verbose = 1, save_best_only = True, mode ='auto')\n",
    "callbacks_list = [checkpoint]"
   ]
  },
  {
   "cell_type": "code",
   "execution_count": 892,
   "metadata": {},
   "outputs": [],
   "source": [
    "data_validate=(X_val,y_val)\n"
   ]
  },
  {
   "cell_type": "code",
   "execution_count": 893,
   "metadata": {
    "scrolled": true
   },
   "outputs": [
    {
     "name": "stdout",
     "output_type": "stream",
     "text": [
      "Epoch 1/100\n",
      "127/127 [==============================] - ETA: 0s - loss: 66.3352 - mean_absolute_error: 66.3352\n",
      "Epoch 00001: val_loss improved from inf to 58.50634, saving model to ./weights\\Weights-001--58.50634.hdf5\n",
      "127/127 [==============================] - 1s 4ms/step - loss: 66.3352 - mean_absolute_error: 66.3352 - val_loss: 58.5063 - val_mean_absolute_error: 58.5063\n",
      "Epoch 2/100\n",
      "124/127 [============================>.] - ETA: 0s - loss: 40.5487 - mean_absolute_error: 40.5487\n",
      "Epoch 00002: val_loss improved from 58.50634 to 16.92273, saving model to ./weights\\Weights-002--16.92273.hdf5\n",
      "127/127 [==============================] - 0s 3ms/step - loss: 40.0882 - mean_absolute_error: 40.0882 - val_loss: 16.9227 - val_mean_absolute_error: 16.9227\n",
      "Epoch 3/100\n",
      "113/127 [=========================>....] - ETA: 0s - loss: 16.5898 - mean_absolute_error: 16.5898\n",
      "Epoch 00003: val_loss improved from 16.92273 to 15.40828, saving model to ./weights\\Weights-003--15.40828.hdf5\n",
      "127/127 [==============================] - 0s 3ms/step - loss: 16.6798 - mean_absolute_error: 16.6798 - val_loss: 15.4083 - val_mean_absolute_error: 15.4083\n",
      "Epoch 4/100\n",
      "115/127 [==========================>...] - ETA: 0s - loss: 16.5518 - mean_absolute_error: 16.5518\n",
      "Epoch 00004: val_loss improved from 15.40828 to 15.34580, saving model to ./weights\\Weights-004--15.34580.hdf5\n",
      "127/127 [==============================] - 0s 3ms/step - loss: 16.5196 - mean_absolute_error: 16.5196 - val_loss: 15.3458 - val_mean_absolute_error: 15.3458\n",
      "Epoch 5/100\n",
      "111/127 [=========================>....] - ETA: 0s - loss: 16.4039 - mean_absolute_error: 16.4039\n",
      "Epoch 00005: val_loss improved from 15.34580 to 15.26603, saving model to ./weights\\Weights-005--15.26603.hdf5\n",
      "127/127 [==============================] - 0s 3ms/step - loss: 16.4363 - mean_absolute_error: 16.4363 - val_loss: 15.2660 - val_mean_absolute_error: 15.2660\n",
      "Epoch 6/100\n",
      "104/127 [=======================>......] - ETA: 0s - loss: 16.3895 - mean_absolute_error: 16.3895\n",
      "Epoch 00006: val_loss improved from 15.26603 to 15.13637, saving model to ./weights\\Weights-006--15.13637.hdf5\n",
      "127/127 [==============================] - 0s 3ms/step - loss: 16.3558 - mean_absolute_error: 16.3558 - val_loss: 15.1364 - val_mean_absolute_error: 15.1364\n",
      "Epoch 7/100\n",
      "104/127 [=======================>......] - ETA: 0s - loss: 16.2812 - mean_absolute_error: 16.2812\n",
      "Epoch 00007: val_loss improved from 15.13637 to 15.07990, saving model to ./weights\\Weights-007--15.07990.hdf5\n",
      "127/127 [==============================] - 0s 2ms/step - loss: 16.2767 - mean_absolute_error: 16.2767 - val_loss: 15.0799 - val_mean_absolute_error: 15.0799\n",
      "Epoch 8/100\n",
      "126/127 [============================>.] - ETA: 0s - loss: 16.1909 - mean_absolute_error: 16.1909\n",
      "Epoch 00008: val_loss improved from 15.07990 to 14.99720, saving model to ./weights\\Weights-008--14.99720.hdf5\n",
      "127/127 [==============================] - 0s 3ms/step - loss: 16.1831 - mean_absolute_error: 16.1831 - val_loss: 14.9972 - val_mean_absolute_error: 14.9972\n",
      "Epoch 9/100\n",
      "112/127 [=========================>....] - ETA: 0s - loss: 16.0478 - mean_absolute_error: 16.0478\n",
      "Epoch 00009: val_loss improved from 14.99720 to 14.89088, saving model to ./weights\\Weights-009--14.89088.hdf5\n",
      "127/127 [==============================] - 0s 2ms/step - loss: 16.0704 - mean_absolute_error: 16.0704 - val_loss: 14.8909 - val_mean_absolute_error: 14.8909\n",
      "Epoch 10/100\n",
      "117/127 [==========================>...] - ETA: 0s - loss: 15.9939 - mean_absolute_error: 15.9939\n",
      "Epoch 00010: val_loss improved from 14.89088 to 14.79335, saving model to ./weights\\Weights-010--14.79335.hdf5\n",
      "127/127 [==============================] - 0s 2ms/step - loss: 15.9816 - mean_absolute_error: 15.9816 - val_loss: 14.7934 - val_mean_absolute_error: 14.7934\n",
      "Epoch 11/100\n",
      "102/127 [=======================>......] - ETA: 0s - loss: 15.9400 - mean_absolute_error: 15.9400\n",
      "Epoch 00011: val_loss did not improve from 14.79335\n",
      "127/127 [==============================] - 0s 2ms/step - loss: 15.8716 - mean_absolute_error: 15.8716 - val_loss: 14.8370 - val_mean_absolute_error: 14.8370\n",
      "Epoch 12/100\n",
      "112/127 [=========================>....] - ETA: 0s - loss: 15.7967 - mean_absolute_error: 15.7967\n",
      "Epoch 00012: val_loss improved from 14.79335 to 14.59382, saving model to ./weights\\Weights-012--14.59382.hdf5\n",
      "127/127 [==============================] - 0s 2ms/step - loss: 15.7892 - mean_absolute_error: 15.7892 - val_loss: 14.5938 - val_mean_absolute_error: 14.5938\n",
      "Epoch 13/100\n",
      " 98/127 [======================>.......] - ETA: 0s - loss: 15.6109 - mean_absolute_error: 15.6109\n",
      "Epoch 00013: val_loss improved from 14.59382 to 14.57330, saving model to ./weights\\Weights-013--14.57330.hdf5\n",
      "127/127 [==============================] - 0s 3ms/step - loss: 15.6656 - mean_absolute_error: 15.6656 - val_loss: 14.5733 - val_mean_absolute_error: 14.5733\n",
      "Epoch 14/100\n",
      "111/127 [=========================>....] - ETA: 0s - loss: 15.4387 - mean_absolute_error: 15.4387\n",
      "Epoch 00014: val_loss improved from 14.57330 to 14.37601, saving model to ./weights\\Weights-014--14.37601.hdf5\n",
      "127/127 [==============================] - 0s 3ms/step - loss: 15.5434 - mean_absolute_error: 15.5434 - val_loss: 14.3760 - val_mean_absolute_error: 14.3760\n",
      "Epoch 15/100\n",
      "110/127 [========================>.....] - ETA: 0s - loss: 15.4330 - mean_absolute_error: 15.4330\n",
      "Epoch 00015: val_loss improved from 14.37601 to 14.26267, saving model to ./weights\\Weights-015--14.26267.hdf5\n",
      "127/127 [==============================] - 0s 3ms/step - loss: 15.4282 - mean_absolute_error: 15.4282 - val_loss: 14.2627 - val_mean_absolute_error: 14.2627\n",
      "Epoch 16/100\n",
      "117/127 [==========================>...] - ETA: 0s - loss: 15.3286 - mean_absolute_error: 15.3286\n",
      "Epoch 00016: val_loss improved from 14.26267 to 14.12642, saving model to ./weights\\Weights-016--14.12642.hdf5\n",
      "127/127 [==============================] - 0s 3ms/step - loss: 15.2977 - mean_absolute_error: 15.2977 - val_loss: 14.1264 - val_mean_absolute_error: 14.1264\n",
      "Epoch 17/100\n",
      "115/127 [==========================>...] - ETA: 0s - loss: 15.0467 - mean_absolute_error: 15.0467\n",
      "Epoch 00017: val_loss improved from 14.12642 to 14.04746, saving model to ./weights\\Weights-017--14.04746.hdf5\n",
      "127/127 [==============================] - 0s 3ms/step - loss: 15.1416 - mean_absolute_error: 15.1416 - val_loss: 14.0475 - val_mean_absolute_error: 14.0475\n",
      "Epoch 18/100\n",
      "114/127 [=========================>....] - ETA: 0s - loss: 15.0489 - mean_absolute_error: 15.0489\n",
      "Epoch 00018: val_loss improved from 14.04746 to 13.85564, saving model to ./weights\\Weights-018--13.85564.hdf5\n",
      "127/127 [==============================] - 0s 3ms/step - loss: 15.0167 - mean_absolute_error: 15.0167 - val_loss: 13.8556 - val_mean_absolute_error: 13.8556\n",
      "Epoch 19/100\n",
      "121/127 [===========================>..] - ETA: 0s - loss: 14.7851 - mean_absolute_error: 14.7851\n",
      "Epoch 00019: val_loss improved from 13.85564 to 13.70267, saving model to ./weights\\Weights-019--13.70267.hdf5\n",
      "127/127 [==============================] - 1s 4ms/step - loss: 14.8387 - mean_absolute_error: 14.8387 - val_loss: 13.7027 - val_mean_absolute_error: 13.7027\n",
      "Epoch 20/100\n",
      "111/127 [=========================>....] - ETA: 0s - loss: 14.7525 - mean_absolute_error: 14.7525\n",
      "Epoch 00020: val_loss improved from 13.70267 to 13.52647, saving model to ./weights\\Weights-020--13.52647.hdf5\n",
      "127/127 [==============================] - 0s 3ms/step - loss: 14.6709 - mean_absolute_error: 14.6709 - val_loss: 13.5265 - val_mean_absolute_error: 13.5265\n",
      "Epoch 21/100\n",
      "127/127 [==============================] - ETA: 0s - loss: 14.4740 - mean_absolute_error: 14.4740\n",
      "Epoch 00021: val_loss improved from 13.52647 to 13.33990, saving model to ./weights\\Weights-021--13.33990.hdf5\n",
      "127/127 [==============================] - 0s 3ms/step - loss: 14.4740 - mean_absolute_error: 14.4740 - val_loss: 13.3399 - val_mean_absolute_error: 13.3399\n",
      "Epoch 22/100\n",
      "123/127 [============================>.] - ETA: 0s - loss: 14.2266 - mean_absolute_error: 14.2266\n",
      "Epoch 00022: val_loss improved from 13.33990 to 13.12775, saving model to ./weights\\Weights-022--13.12775.hdf5\n",
      "127/127 [==============================] - 0s 3ms/step - loss: 14.2493 - mean_absolute_error: 14.2493 - val_loss: 13.1277 - val_mean_absolute_error: 13.1277\n"
     ]
    },
    {
     "name": "stdout",
     "output_type": "stream",
     "text": [
      "Epoch 23/100\n",
      "121/127 [===========================>..] - ETA: 0s - loss: 14.0652 - mean_absolute_error: 14.0652\n",
      "Epoch 00023: val_loss improved from 13.12775 to 12.91057, saving model to ./weights\\Weights-023--12.91057.hdf5\n",
      "127/127 [==============================] - 0s 3ms/step - loss: 14.0355 - mean_absolute_error: 14.0355 - val_loss: 12.9106 - val_mean_absolute_error: 12.9106\n",
      "Epoch 24/100\n",
      "125/127 [============================>.] - ETA: 0s - loss: 13.7235 - mean_absolute_error: 13.7235\n",
      "Epoch 00024: val_loss improved from 12.91057 to 12.64135, saving model to ./weights\\Weights-024--12.64135.hdf5\n",
      "127/127 [==============================] - 0s 3ms/step - loss: 13.7470 - mean_absolute_error: 13.7470 - val_loss: 12.6413 - val_mean_absolute_error: 12.6413\n",
      "Epoch 25/100\n",
      "116/127 [==========================>...] - ETA: 0s - loss: 13.5984 - mean_absolute_error: 13.5984\n",
      "Epoch 00025: val_loss improved from 12.64135 to 12.31919, saving model to ./weights\\Weights-025--12.31919.hdf5\n",
      "127/127 [==============================] - 0s 2ms/step - loss: 13.4361 - mean_absolute_error: 13.4361 - val_loss: 12.3192 - val_mean_absolute_error: 12.3192\n",
      "Epoch 26/100\n",
      "112/127 [=========================>....] - ETA: 0s - loss: 13.0629 - mean_absolute_error: 13.0629\n",
      "Epoch 00026: val_loss improved from 12.31919 to 11.96832, saving model to ./weights\\Weights-026--11.96832.hdf5\n",
      "127/127 [==============================] - 0s 2ms/step - loss: 13.0953 - mean_absolute_error: 13.0953 - val_loss: 11.9683 - val_mean_absolute_error: 11.9683\n",
      "Epoch 27/100\n",
      "109/127 [========================>.....] - ETA: 0s - loss: 12.6813 - mean_absolute_error: 12.6813\n",
      "Epoch 00027: val_loss improved from 11.96832 to 11.66919, saving model to ./weights\\Weights-027--11.66919.hdf5\n",
      "127/127 [==============================] - 0s 3ms/step - loss: 12.6668 - mean_absolute_error: 12.6668 - val_loss: 11.6692 - val_mean_absolute_error: 11.6692\n",
      "Epoch 28/100\n",
      "111/127 [=========================>....] - ETA: 0s - loss: 12.1384 - mean_absolute_error: 12.1384\n",
      "Epoch 00028: val_loss improved from 11.66919 to 11.05445, saving model to ./weights\\Weights-028--11.05445.hdf5\n",
      "127/127 [==============================] - 0s 2ms/step - loss: 12.1936 - mean_absolute_error: 12.1936 - val_loss: 11.0545 - val_mean_absolute_error: 11.0545\n",
      "Epoch 29/100\n",
      "100/127 [======================>.......] - ETA: 0s - loss: 11.7734 - mean_absolute_error: 11.7734\n",
      "Epoch 00029: val_loss improved from 11.05445 to 10.48718, saving model to ./weights\\Weights-029--10.48718.hdf5\n",
      "127/127 [==============================] - 0s 2ms/step - loss: 11.6198 - mean_absolute_error: 11.6198 - val_loss: 10.4872 - val_mean_absolute_error: 10.4872\n",
      "Epoch 30/100\n",
      "110/127 [========================>.....] - ETA: 0s - loss: 10.9172 - mean_absolute_error: 10.9172\n",
      "Epoch 00030: val_loss improved from 10.48718 to 9.82021, saving model to ./weights\\Weights-030--9.82021.hdf5\n",
      "127/127 [==============================] - 0s 2ms/step - loss: 10.8885 - mean_absolute_error: 10.8885 - val_loss: 9.8202 - val_mean_absolute_error: 9.8202\n",
      "Epoch 31/100\n",
      "116/127 [==========================>...] - ETA: 0s - loss: 10.0534 - mean_absolute_error: 10.0534\n",
      "Epoch 00031: val_loss improved from 9.82021 to 8.88160, saving model to ./weights\\Weights-031--8.88160.hdf5\n",
      "127/127 [==============================] - 0s 2ms/step - loss: 10.0226 - mean_absolute_error: 10.0226 - val_loss: 8.8816 - val_mean_absolute_error: 8.8816\n",
      "Epoch 32/100\n",
      "110/127 [========================>.....] - ETA: 0s - loss: 9.0982 - mean_absolute_error: 9.0982\n",
      "Epoch 00032: val_loss improved from 8.88160 to 7.90986, saving model to ./weights\\Weights-032--7.90986.hdf5\n",
      "127/127 [==============================] - 0s 2ms/step - loss: 9.0213 - mean_absolute_error: 9.0213 - val_loss: 7.9099 - val_mean_absolute_error: 7.9099\n",
      "Epoch 33/100\n",
      "109/127 [========================>.....] - ETA: 0s - loss: 7.9981 - mean_absolute_error: 7.9981\n",
      "Epoch 00033: val_loss improved from 7.90986 to 6.94190, saving model to ./weights\\Weights-033--6.94190.hdf5\n",
      "127/127 [==============================] - 0s 2ms/step - loss: 7.9188 - mean_absolute_error: 7.9188 - val_loss: 6.9419 - val_mean_absolute_error: 6.9419\n",
      "Epoch 34/100\n",
      "114/127 [=========================>....] - ETA: 0s - loss: 6.8790 - mean_absolute_error: 6.8790\n",
      "Epoch 00034: val_loss improved from 6.94190 to 6.03158, saving model to ./weights\\Weights-034--6.03158.hdf5\n",
      "127/127 [==============================] - 0s 2ms/step - loss: 6.8147 - mean_absolute_error: 6.8147 - val_loss: 6.0316 - val_mean_absolute_error: 6.0316\n",
      "Epoch 35/100\n",
      "116/127 [==========================>...] - ETA: 0s - loss: 6.0172 - mean_absolute_error: 6.0172\n",
      "Epoch 00035: val_loss improved from 6.03158 to 5.50861, saving model to ./weights\\Weights-035--5.50861.hdf5\n",
      "127/127 [==============================] - 0s 2ms/step - loss: 6.0011 - mean_absolute_error: 6.0011 - val_loss: 5.5086 - val_mean_absolute_error: 5.5086\n",
      "Epoch 36/100\n",
      "114/127 [=========================>....] - ETA: 0s - loss: 5.5560 - mean_absolute_error: 5.5560\n",
      "Epoch 00036: val_loss improved from 5.50861 to 5.24246, saving model to ./weights\\Weights-036--5.24246.hdf5\n",
      "127/127 [==============================] - 0s 2ms/step - loss: 5.5445 - mean_absolute_error: 5.5445 - val_loss: 5.2425 - val_mean_absolute_error: 5.2425\n",
      "Epoch 37/100\n",
      "112/127 [=========================>....] - ETA: 0s - loss: 5.3437 - mean_absolute_error: 5.3437\n",
      "Epoch 00037: val_loss improved from 5.24246 to 5.11325, saving model to ./weights\\Weights-037--5.11325.hdf5\n",
      "127/127 [==============================] - 0s 2ms/step - loss: 5.3272 - mean_absolute_error: 5.3272 - val_loss: 5.1133 - val_mean_absolute_error: 5.1133\n",
      "Epoch 38/100\n",
      "116/127 [==========================>...] - ETA: 0s - loss: 5.1967 - mean_absolute_error: 5.1967\n",
      "Epoch 00038: val_loss improved from 5.11325 to 5.07205, saving model to ./weights\\Weights-038--5.07205.hdf5\n",
      "127/127 [==============================] - 0s 2ms/step - loss: 5.1993 - mean_absolute_error: 5.1993 - val_loss: 5.0721 - val_mean_absolute_error: 5.0721\n",
      "Epoch 39/100\n",
      "124/127 [============================>.] - ETA: 0s - loss: 5.2207 - mean_absolute_error: 5.2207\n",
      "Epoch 00039: val_loss did not improve from 5.07205\n",
      "127/127 [==============================] - 0s 2ms/step - loss: 5.2244 - mean_absolute_error: 5.2244 - val_loss: 5.1179 - val_mean_absolute_error: 5.1179\n",
      "Epoch 40/100\n",
      "115/127 [==========================>...] - ETA: 0s - loss: 5.1683 - mean_absolute_error: 5.1683\n",
      "Epoch 00040: val_loss did not improve from 5.07205\n",
      "127/127 [==============================] - 0s 2ms/step - loss: 5.1577 - mean_absolute_error: 5.1577 - val_loss: 5.1230 - val_mean_absolute_error: 5.1230\n",
      "Epoch 41/100\n",
      "118/127 [==========================>...] - ETA: 0s - loss: 5.1800 - mean_absolute_error: 5.1800\n",
      "Epoch 00041: val_loss did not improve from 5.07205\n",
      "127/127 [==============================] - 0s 3ms/step - loss: 5.1832 - mean_absolute_error: 5.1832 - val_loss: 5.1114 - val_mean_absolute_error: 5.1114\n",
      "Epoch 42/100\n",
      "118/127 [==========================>...] - ETA: 0s - loss: 5.1552 - mean_absolute_error: 5.1552\n",
      "Epoch 00042: val_loss did not improve from 5.07205\n",
      "127/127 [==============================] - 0s 3ms/step - loss: 5.1584 - mean_absolute_error: 5.1584 - val_loss: 5.0810 - val_mean_absolute_error: 5.0810\n",
      "Epoch 43/100\n",
      "124/127 [============================>.] - ETA: 0s - loss: 5.1550 - mean_absolute_error: 5.1550\n",
      "Epoch 00043: val_loss improved from 5.07205 to 5.06537, saving model to ./weights\\Weights-043--5.06537.hdf5\n",
      "127/127 [==============================] - 0s 3ms/step - loss: 5.1451 - mean_absolute_error: 5.1451 - val_loss: 5.0654 - val_mean_absolute_error: 5.0654\n",
      "Epoch 44/100\n",
      "117/127 [==========================>...] - ETA: 0s - loss: 5.1885 - mean_absolute_error: 5.1885\n",
      "Epoch 00044: val_loss did not improve from 5.06537\n",
      "127/127 [==============================] - 0s 3ms/step - loss: 5.1673 - mean_absolute_error: 5.1673 - val_loss: 5.0757 - val_mean_absolute_error: 5.0757\n",
      "Epoch 45/100\n",
      "108/127 [========================>.....] - ETA: 0s - loss: 5.1892 - mean_absolute_error: 5.1892\n",
      "Epoch 00045: val_loss did not improve from 5.06537\n",
      "127/127 [==============================] - 0s 3ms/step - loss: 5.1329 - mean_absolute_error: 5.1329 - val_loss: 5.1449 - val_mean_absolute_error: 5.1449\n"
     ]
    },
    {
     "name": "stdout",
     "output_type": "stream",
     "text": [
      "Epoch 46/100\n",
      "113/127 [=========================>....] - ETA: 0s - loss: 5.1431 - mean_absolute_error: 5.1431\n",
      "Epoch 00046: val_loss did not improve from 5.06537\n",
      "127/127 [==============================] - 0s 2ms/step - loss: 5.1626 - mean_absolute_error: 5.1626 - val_loss: 5.1029 - val_mean_absolute_error: 5.1029\n",
      "Epoch 47/100\n",
      "106/127 [========================>.....] - ETA: 0s - loss: 5.1529 - mean_absolute_error: 5.1529\n",
      "Epoch 00047: val_loss did not improve from 5.06537\n",
      "127/127 [==============================] - 0s 2ms/step - loss: 5.1435 - mean_absolute_error: 5.1435 - val_loss: 5.0694 - val_mean_absolute_error: 5.0694\n",
      "Epoch 48/100\n",
      "103/127 [=======================>......] - ETA: 0s - loss: 5.1301 - mean_absolute_error: 5.1301\n",
      "Epoch 00048: val_loss did not improve from 5.06537\n",
      "127/127 [==============================] - 0s 2ms/step - loss: 5.1418 - mean_absolute_error: 5.1418 - val_loss: 5.0992 - val_mean_absolute_error: 5.0992\n",
      "Epoch 49/100\n",
      "114/127 [=========================>....] - ETA: 0s - loss: 5.1703 - mean_absolute_error: 5.1703\n",
      "Epoch 00049: val_loss did not improve from 5.06537\n",
      "127/127 [==============================] - 0s 2ms/step - loss: 5.1468 - mean_absolute_error: 5.1468 - val_loss: 5.0771 - val_mean_absolute_error: 5.0771\n",
      "Epoch 50/100\n",
      "108/127 [========================>.....] - ETA: 0s - loss: 5.1418 - mean_absolute_error: 5.1418\n",
      "Epoch 00050: val_loss did not improve from 5.06537\n",
      "127/127 [==============================] - 0s 2ms/step - loss: 5.1467 - mean_absolute_error: 5.1467 - val_loss: 5.3450 - val_mean_absolute_error: 5.3450\n",
      "Epoch 51/100\n",
      "125/127 [============================>.] - ETA: 0s - loss: 5.1437 - mean_absolute_error: 5.1437\n",
      "Epoch 00051: val_loss did not improve from 5.06537\n",
      "127/127 [==============================] - 0s 2ms/step - loss: 5.1414 - mean_absolute_error: 5.1414 - val_loss: 5.1065 - val_mean_absolute_error: 5.1065\n",
      "Epoch 52/100\n",
      "117/127 [==========================>...] - ETA: 0s - loss: 5.1449 - mean_absolute_error: 5.1449\n",
      "Epoch 00052: val_loss did not improve from 5.06537\n",
      "127/127 [==============================] - 0s 2ms/step - loss: 5.1612 - mean_absolute_error: 5.1612 - val_loss: 5.0821 - val_mean_absolute_error: 5.0821\n",
      "Epoch 53/100\n",
      "121/127 [===========================>..] - ETA: 0s - loss: 5.1658 - mean_absolute_error: 5.1658\n",
      "Epoch 00053: val_loss did not improve from 5.06537\n",
      "127/127 [==============================] - 0s 2ms/step - loss: 5.1592 - mean_absolute_error: 5.1592 - val_loss: 5.0740 - val_mean_absolute_error: 5.0740\n",
      "Epoch 54/100\n",
      "109/127 [========================>.....] - ETA: 0s - loss: 5.1247 - mean_absolute_error: 5.1247\n",
      "Epoch 00054: val_loss did not improve from 5.06537\n",
      "127/127 [==============================] - 0s 2ms/step - loss: 5.1389 - mean_absolute_error: 5.1389 - val_loss: 5.0976 - val_mean_absolute_error: 5.0976\n",
      "Epoch 55/100\n",
      "114/127 [=========================>....] - ETA: 0s - loss: 5.1453 - mean_absolute_error: 5.1453\n",
      "Epoch 00055: val_loss did not improve from 5.06537\n",
      "127/127 [==============================] - 0s 2ms/step - loss: 5.1370 - mean_absolute_error: 5.1370 - val_loss: 5.0717 - val_mean_absolute_error: 5.0717\n",
      "Epoch 56/100\n",
      "112/127 [=========================>....] - ETA: 0s - loss: 5.1271 - mean_absolute_error: 5.1271\n",
      "Epoch 00056: val_loss did not improve from 5.06537\n",
      "127/127 [==============================] - 0s 2ms/step - loss: 5.1537 - mean_absolute_error: 5.1537 - val_loss: 5.0906 - val_mean_absolute_error: 5.0906\n",
      "Epoch 57/100\n",
      "106/127 [========================>.....] - ETA: 0s - loss: 5.1447 - mean_absolute_error: 5.1447\n",
      "Epoch 00057: val_loss did not improve from 5.06537\n",
      "127/127 [==============================] - 0s 2ms/step - loss: 5.1574 - mean_absolute_error: 5.1574 - val_loss: 5.1287 - val_mean_absolute_error: 5.1287\n",
      "Epoch 58/100\n",
      "116/127 [==========================>...] - ETA: 0s - loss: 5.1306 - mean_absolute_error: 5.1306\n",
      "Epoch 00058: val_loss did not improve from 5.06537\n",
      "127/127 [==============================] - 0s 2ms/step - loss: 5.1437 - mean_absolute_error: 5.1437 - val_loss: 5.0684 - val_mean_absolute_error: 5.0684\n",
      "Epoch 59/100\n",
      "115/127 [==========================>...] - ETA: 0s - loss: 5.1832 - mean_absolute_error: 5.1832\n",
      "Epoch 00059: val_loss did not improve from 5.06537\n",
      "127/127 [==============================] - 0s 2ms/step - loss: 5.1647 - mean_absolute_error: 5.1647 - val_loss: 5.0785 - val_mean_absolute_error: 5.0785\n",
      "Epoch 60/100\n",
      "125/127 [============================>.] - ETA: 0s - loss: 5.1764 - mean_absolute_error: 5.1764\n",
      "Epoch 00060: val_loss did not improve from 5.06537\n",
      "127/127 [==============================] - 0s 2ms/step - loss: 5.1699 - mean_absolute_error: 5.1699 - val_loss: 5.1542 - val_mean_absolute_error: 5.1542\n",
      "Epoch 61/100\n",
      "107/127 [========================>.....] - ETA: 0s - loss: 5.1463 - mean_absolute_error: 5.1463\n",
      "Epoch 00061: val_loss did not improve from 5.06537\n",
      "127/127 [==============================] - 0s 2ms/step - loss: 5.1800 - mean_absolute_error: 5.1800 - val_loss: 5.0727 - val_mean_absolute_error: 5.0727\n",
      "Epoch 62/100\n",
      "114/127 [=========================>....] - ETA: 0s - loss: 5.1286 - mean_absolute_error: 5.1286\n",
      "Epoch 00062: val_loss did not improve from 5.06537\n",
      "127/127 [==============================] - 0s 2ms/step - loss: 5.1304 - mean_absolute_error: 5.1304 - val_loss: 5.0900 - val_mean_absolute_error: 5.0900\n",
      "Epoch 63/100\n",
      "121/127 [===========================>..] - ETA: 0s - loss: 5.1533 - mean_absolute_error: 5.1533\n",
      "Epoch 00063: val_loss did not improve from 5.06537\n",
      "127/127 [==============================] - 0s 2ms/step - loss: 5.1497 - mean_absolute_error: 5.1497 - val_loss: 5.1032 - val_mean_absolute_error: 5.1032\n",
      "Epoch 64/100\n",
      "109/127 [========================>.....] - ETA: 0s - loss: 5.1240 - mean_absolute_error: 5.1240\n",
      "Epoch 00064: val_loss did not improve from 5.06537\n",
      "127/127 [==============================] - 0s 2ms/step - loss: 5.1285 - mean_absolute_error: 5.1285 - val_loss: 5.1550 - val_mean_absolute_error: 5.1550\n",
      "Epoch 65/100\n",
      "110/127 [========================>.....] - ETA: 0s - loss: 5.1390 - mean_absolute_error: 5.1390\n",
      "Epoch 00065: val_loss did not improve from 5.06537\n",
      "127/127 [==============================] - 0s 2ms/step - loss: 5.1498 - mean_absolute_error: 5.1498 - val_loss: 5.0705 - val_mean_absolute_error: 5.0705\n",
      "Epoch 66/100\n",
      "107/127 [========================>.....] - ETA: 0s - loss: 5.1453 - mean_absolute_error: 5.1453\n",
      "Epoch 00066: val_loss did not improve from 5.06537\n",
      "127/127 [==============================] - 0s 2ms/step - loss: 5.1689 - mean_absolute_error: 5.1689 - val_loss: 5.1014 - val_mean_absolute_error: 5.1014\n",
      "Epoch 67/100\n",
      "115/127 [==========================>...] - ETA: 0s - loss: 5.1604 - mean_absolute_error: 5.1604\n",
      "Epoch 00067: val_loss did not improve from 5.06537\n",
      "127/127 [==============================] - 0s 2ms/step - loss: 5.1343 - mean_absolute_error: 5.1343 - val_loss: 5.1705 - val_mean_absolute_error: 5.1705\n",
      "Epoch 68/100\n",
      " 99/127 [======================>.......] - ETA: 0s - loss: 5.1851 - mean_absolute_error: 5.1851\n",
      "Epoch 00068: val_loss did not improve from 5.06537\n",
      "127/127 [==============================] - 0s 2ms/step - loss: 5.1487 - mean_absolute_error: 5.1487 - val_loss: 5.0737 - val_mean_absolute_error: 5.0737\n",
      "Epoch 69/100\n",
      "102/127 [=======================>......] - ETA: 0s - loss: 5.1587 - mean_absolute_error: 5.1587\n",
      "Epoch 00069: val_loss did not improve from 5.06537\n",
      "127/127 [==============================] - 0s 2ms/step - loss: 5.1438 - mean_absolute_error: 5.1438 - val_loss: 5.1240 - val_mean_absolute_error: 5.1240\n",
      "Epoch 70/100\n",
      "116/127 [==========================>...] - ETA: 0s - loss: 5.1003 - mean_absolute_error: 5.1003\n",
      "Epoch 00070: val_loss did not improve from 5.06537\n",
      "127/127 [==============================] - 0s 2ms/step - loss: 5.1271 - mean_absolute_error: 5.1271 - val_loss: 5.1434 - val_mean_absolute_error: 5.1434\n",
      "Epoch 71/100\n",
      "112/127 [=========================>....] - ETA: 0s - loss: 5.1766 - mean_absolute_error: 5.1766\n",
      "Epoch 00071: val_loss did not improve from 5.06537\n",
      "127/127 [==============================] - 0s 2ms/step - loss: 5.1641 - mean_absolute_error: 5.1641 - val_loss: 5.0875 - val_mean_absolute_error: 5.0875\n",
      "Epoch 72/100\n",
      "109/127 [========================>.....] - ETA: 0s - loss: 5.1336 - mean_absolute_error: 5.1336\n",
      "Epoch 00072: val_loss did not improve from 5.06537\n",
      "127/127 [==============================] - 0s 2ms/step - loss: 5.1441 - mean_absolute_error: 5.1441 - val_loss: 5.0718 - val_mean_absolute_error: 5.0718\n",
      "Epoch 73/100\n",
      "110/127 [========================>.....] - ETA: 0s - loss: 5.1463 - mean_absolute_error: 5.1463\n",
      "Epoch 00073: val_loss did not improve from 5.06537\n",
      "127/127 [==============================] - 0s 2ms/step - loss: 5.1486 - mean_absolute_error: 5.1486 - val_loss: 5.0787 - val_mean_absolute_error: 5.0787\n",
      "Epoch 74/100\n",
      "108/127 [========================>.....] - ETA: 0s - loss: 5.1803 - mean_absolute_error: 5.1803\n",
      "Epoch 00074: val_loss did not improve from 5.06537\n",
      "127/127 [==============================] - 0s 2ms/step - loss: 5.1613 - mean_absolute_error: 5.1613 - val_loss: 5.0701 - val_mean_absolute_error: 5.0701\n",
      "Epoch 75/100\n",
      "107/127 [========================>.....] - ETA: 0s - loss: 5.1053 - mean_absolute_error: 5.1053\n",
      "Epoch 00075: val_loss did not improve from 5.06537\n",
      "127/127 [==============================] - 0s 2ms/step - loss: 5.1442 - mean_absolute_error: 5.1442 - val_loss: 5.0715 - val_mean_absolute_error: 5.0715\n",
      "Epoch 76/100\n",
      "103/127 [=======================>......] - ETA: 0s - loss: 5.2113 - mean_absolute_error: 5.2113\n",
      "Epoch 00076: val_loss did not improve from 5.06537\n",
      "127/127 [==============================] - 0s 2ms/step - loss: 5.1347 - mean_absolute_error: 5.1347 - val_loss: 5.0832 - val_mean_absolute_error: 5.0832\n",
      "Epoch 77/100\n",
      "120/127 [===========================>..] - ETA: 0s - loss: 5.1558 - mean_absolute_error: 5.1558\n",
      "Epoch 00077: val_loss did not improve from 5.06537\n",
      "127/127 [==============================] - 0s 2ms/step - loss: 5.1485 - mean_absolute_error: 5.1485 - val_loss: 5.1505 - val_mean_absolute_error: 5.1505\n",
      "Epoch 78/100\n",
      "104/127 [=======================>......] - ETA: 0s - loss: 5.1597 - mean_absolute_error: 5.1597\n",
      "Epoch 00078: val_loss did not improve from 5.06537\n",
      "127/127 [==============================] - 0s 2ms/step - loss: 5.1474 - mean_absolute_error: 5.1474 - val_loss: 5.0937 - val_mean_absolute_error: 5.0937\n",
      "Epoch 79/100\n",
      "111/127 [=========================>....] - ETA: 0s - loss: 5.1451 - mean_absolute_error: 5.1451\n",
      "Epoch 00079: val_loss did not improve from 5.06537\n",
      "127/127 [==============================] - 0s 2ms/step - loss: 5.1266 - mean_absolute_error: 5.1266 - val_loss: 5.0710 - val_mean_absolute_error: 5.0710\n",
      "Epoch 80/100\n",
      "119/127 [===========================>..] - ETA: 0s - loss: 5.1419 - mean_absolute_error: 5.1419\n",
      "Epoch 00080: val_loss did not improve from 5.06537\n",
      "127/127 [==============================] - 0s 2ms/step - loss: 5.1514 - mean_absolute_error: 5.1514 - val_loss: 5.2213 - val_mean_absolute_error: 5.2213\n",
      "Epoch 81/100\n",
      "113/127 [=========================>....] - ETA: 0s - loss: 5.1902 - mean_absolute_error: 5.1902\n",
      "Epoch 00081: val_loss did not improve from 5.06537\n",
      "127/127 [==============================] - 0s 2ms/step - loss: 5.1565 - mean_absolute_error: 5.1565 - val_loss: 5.0703 - val_mean_absolute_error: 5.0703\n",
      "Epoch 82/100\n",
      "118/127 [==========================>...] - ETA: 0s - loss: 5.1405 - mean_absolute_error: 5.1405\n",
      "Epoch 00082: val_loss did not improve from 5.06537\n",
      "127/127 [==============================] - 0s 2ms/step - loss: 5.1435 - mean_absolute_error: 5.1435 - val_loss: 5.0758 - val_mean_absolute_error: 5.0758\n",
      "Epoch 83/100\n",
      "106/127 [========================>.....] - ETA: 0s - loss: 5.1345 - mean_absolute_error: 5.1345\n",
      "Epoch 00083: val_loss did not improve from 5.06537\n",
      "127/127 [==============================] - 0s 2ms/step - loss: 5.1381 - mean_absolute_error: 5.1381 - val_loss: 5.0690 - val_mean_absolute_error: 5.0690\n",
      "Epoch 84/100\n",
      "112/127 [=========================>....] - ETA: 0s - loss: 5.1290 - mean_absolute_error: 5.1290\n",
      "Epoch 00084: val_loss did not improve from 5.06537\n",
      "127/127 [==============================] - 0s 2ms/step - loss: 5.1454 - mean_absolute_error: 5.1454 - val_loss: 5.0811 - val_mean_absolute_error: 5.0811\n",
      "Epoch 85/100\n",
      "124/127 [============================>.] - ETA: 0s - loss: 5.1370 - mean_absolute_error: 5.1370\n",
      "Epoch 00085: val_loss did not improve from 5.06537\n",
      "127/127 [==============================] - 0s 2ms/step - loss: 5.1349 - mean_absolute_error: 5.1349 - val_loss: 5.0757 - val_mean_absolute_error: 5.0757\n",
      "Epoch 86/100\n",
      "123/127 [============================>.] - ETA: 0s - loss: 5.1263 - mean_absolute_error: 5.1263\n",
      "Epoch 00086: val_loss did not improve from 5.06537\n",
      "127/127 [==============================] - 0s 2ms/step - loss: 5.1371 - mean_absolute_error: 5.1371 - val_loss: 5.0751 - val_mean_absolute_error: 5.0751\n",
      "Epoch 87/100\n",
      "116/127 [==========================>...] - ETA: 0s - loss: 5.1675 - mean_absolute_error: 5.1675\n",
      "Epoch 00087: val_loss did not improve from 5.06537\n",
      "127/127 [==============================] - 0s 2ms/step - loss: 5.1545 - mean_absolute_error: 5.1545 - val_loss: 5.0684 - val_mean_absolute_error: 5.0684\n",
      "Epoch 88/100\n",
      "115/127 [==========================>...] - ETA: 0s - loss: 5.1181 - mean_absolute_error: 5.1181\n",
      "Epoch 00088: val_loss did not improve from 5.06537\n",
      "127/127 [==============================] - 0s 2ms/step - loss: 5.1306 - mean_absolute_error: 5.1306 - val_loss: 5.0758 - val_mean_absolute_error: 5.0758\n",
      "Epoch 89/100\n",
      "115/127 [==========================>...] - ETA: 0s - loss: 5.1458 - mean_absolute_error: 5.1458\n",
      "Epoch 00089: val_loss did not improve from 5.06537\n",
      "127/127 [==============================] - 0s 2ms/step - loss: 5.1469 - mean_absolute_error: 5.1469 - val_loss: 5.0868 - val_mean_absolute_error: 5.0868\n",
      "Epoch 90/100\n",
      "114/127 [=========================>....] - ETA: 0s - loss: 5.1335 - mean_absolute_error: 5.1335\n",
      "Epoch 00090: val_loss did not improve from 5.06537\n",
      "127/127 [==============================] - 0s 2ms/step - loss: 5.1336 - mean_absolute_error: 5.1336 - val_loss: 5.0831 - val_mean_absolute_error: 5.0831\n",
      "Epoch 91/100\n",
      "123/127 [============================>.] - ETA: 0s - loss: 5.1342 - mean_absolute_error: 5.1342\n",
      "Epoch 00091: val_loss did not improve from 5.06537\n",
      "127/127 [==============================] - 0s 2ms/step - loss: 5.1221 - mean_absolute_error: 5.1221 - val_loss: 5.0748 - val_mean_absolute_error: 5.0748\n",
      "Epoch 92/100\n",
      "106/127 [========================>.....] - ETA: 0s - loss: 5.1629 - mean_absolute_error: 5.1629\n",
      "Epoch 00092: val_loss did not improve from 5.06537\n",
      "127/127 [==============================] - 0s 2ms/step - loss: 5.1351 - mean_absolute_error: 5.1351 - val_loss: 5.0684 - val_mean_absolute_error: 5.0684\n",
      "Epoch 93/100\n",
      "105/127 [=======================>......] - ETA: 0s - loss: 5.1711 - mean_absolute_error: 5.1711\n",
      "Epoch 00093: val_loss did not improve from 5.06537\n",
      "127/127 [==============================] - 0s 2ms/step - loss: 5.1515 - mean_absolute_error: 5.1515 - val_loss: 5.0701 - val_mean_absolute_error: 5.0701\n",
      "Epoch 94/100\n",
      "113/127 [=========================>....] - ETA: 0s - loss: 5.1395 - mean_absolute_error: 5.1395\n",
      "Epoch 00094: val_loss did not improve from 5.06537\n",
      "127/127 [==============================] - 0s 2ms/step - loss: 5.1403 - mean_absolute_error: 5.1403 - val_loss: 5.1158 - val_mean_absolute_error: 5.1158\n",
      "Epoch 95/100\n",
      "109/127 [========================>.....] - ETA: 0s - loss: 5.1203 - mean_absolute_error: 5.1203\n",
      "Epoch 00095: val_loss did not improve from 5.06537\n",
      "127/127 [==============================] - 0s 2ms/step - loss: 5.1401 - mean_absolute_error: 5.1401 - val_loss: 5.1553 - val_mean_absolute_error: 5.1553\n",
      "Epoch 96/100\n",
      "118/127 [==========================>...] - ETA: 0s - loss: 5.1491 - mean_absolute_error: 5.1491\n",
      "Epoch 00096: val_loss did not improve from 5.06537\n",
      "127/127 [==============================] - 0s 2ms/step - loss: 5.1544 - mean_absolute_error: 5.1544 - val_loss: 5.0750 - val_mean_absolute_error: 5.0750\n",
      "Epoch 97/100\n",
      "117/127 [==========================>...] - ETA: 0s - loss: 5.1338 - mean_absolute_error: 5.1338\n",
      "Epoch 00097: val_loss did not improve from 5.06537\n",
      "127/127 [==============================] - 0s 2ms/step - loss: 5.1430 - mean_absolute_error: 5.1430 - val_loss: 5.0717 - val_mean_absolute_error: 5.0717\n",
      "Epoch 98/100\n"
     ]
    },
    {
     "name": "stdout",
     "output_type": "stream",
     "text": [
      "114/127 [=========================>....] - ETA: 0s - loss: 5.1406 - mean_absolute_error: 5.1406\n",
      "Epoch 00098: val_loss did not improve from 5.06537\n",
      "127/127 [==============================] - 0s 2ms/step - loss: 5.1463 - mean_absolute_error: 5.1463 - val_loss: 5.0730 - val_mean_absolute_error: 5.0730\n",
      "Epoch 99/100\n",
      "117/127 [==========================>...] - ETA: 0s - loss: 5.1197 - mean_absolute_error: 5.1197\n",
      "Epoch 00099: val_loss did not improve from 5.06537\n",
      "127/127 [==============================] - 0s 2ms/step - loss: 5.1253 - mean_absolute_error: 5.1253 - val_loss: 5.0834 - val_mean_absolute_error: 5.0834\n",
      "Epoch 100/100\n",
      "119/127 [===========================>..] - ETA: 0s - loss: 5.1354 - mean_absolute_error: 5.1354\n",
      "Epoch 00100: val_loss did not improve from 5.06537\n",
      "127/127 [==============================] - 0s 2ms/step - loss: 5.1418 - mean_absolute_error: 5.1418 - val_loss: 5.0706 - val_mean_absolute_error: 5.0706\n"
     ]
    }
   ],
   "source": [
    "history=ann.fit(x = X_train,y=y_train,batch_size=32,validation_data=data_validate, epochs = 100,callbacks=callbacks_list)"
   ]
  },
  {
   "cell_type": "code",
   "execution_count": 894,
   "metadata": {},
   "outputs": [],
   "source": [
    "wights_file = './weights\\Weights-038--5.07205.hdf5' # choose the best checkpoint \n",
    "ann.load_weights(wights_file) # load it\n",
    "ann.compile(loss='mean_absolute_error', optimizer='adam', metrics=['mean_absolute_error'])"
   ]
  },
  {
   "cell_type": "code",
   "execution_count": 895,
   "metadata": {},
   "outputs": [
    {
     "name": "stdout",
     "output_type": "stream",
     "text": [
      "rmse: 5.936648447995859\n",
      "Mean absolute error: 4.993269379334903\n"
     ]
    }
   ],
   "source": [
    "y_annpred=ann.predict(X_test)\n",
    "ann_error=np.sqrt(np.mean(np.square(y_test-y_annpred)))\n",
    "print(\"rmse:\",ann_error) #\n",
    "mae = np.abs(y_test-y_annpred).mean()\n",
    "print(\"Mean absolute error:\",mae)"
   ]
  },
  {
   "cell_type": "code",
   "execution_count": 896,
   "metadata": {},
   "outputs": [
    {
     "data": {
      "text/plain": [
       "Text(0.5, 1.0, 'Frequency distribution of difference between true and predicted Tin ')"
      ]
     },
     "execution_count": 896,
     "metadata": {},
     "output_type": "execute_result"
    },
    {
     "data": {
      "image/png": "[encoded data removed]",
      "text/plain": [
       "<Figure size 432x288 with 1 Axes>"
      ]
     },
     "metadata": {
      "needs_background": "light"
     },
     "output_type": "display_data"
    }
   ],
   "source": [
    "xx=[(i) for i in range(y_annpred.shape[0])]\n",
    "plt.figure(1)\n",
    "diff=abs(y_test-y_annpred)\n",
    "#plt.plot(xx,diff)\n",
    "plt.hist(diff)\n",
    "#plt.plot(xx,y_test[0:10,:])\n",
    "#plt.plot(xx,y_annpred[0:10,:])\n",
    "plt.ylabel('Number of data')\n",
    "plt.xlabel('Difference between Real and Predicted Tin (F)')\n",
    "plt.title('Frequency distribution of difference between true and predicted Tin ')"
   ]
  },
  {
   "cell_type": "code",
   "execution_count": 897,
   "metadata": {},
   "outputs": [
    {
     "data": {
      "text/plain": [
       "Text(0.5, 1.0, 'Loss Convergence')"
      ]
     },
     "execution_count": 897,
     "metadata": {},
     "output_type": "execute_result"
    },
    {
     "data": {
      "image/png": "[encoded data removed]",
      "text/plain": [
       "<Figure size 432x288 with 1 Axes>"
      ]
     },
     "metadata": {
      "needs_background": "light"
     },
     "output_type": "display_data"
    }
   ],
   "source": [
    "#print(history.history['loss'])\n",
    "train_loss=history.history['loss']\n",
    "val_loss=history.history['val_loss']\n",
    "xloss=[(i) for i in range(len(train_loss))]\n",
    "plt.plot(xloss,train_loss)\n",
    "plt.plot(xloss,val_loss)\n",
    "plt.xlabel('epochs')\n",
    "plt.ylabel('Mean absolute error')\n",
    "plt.legend(['train loss', 'validation loss'])\n",
    "plt.title('Loss Convergence')"
   ]
  },
  {
   "cell_type": "code",
   "execution_count": 898,
   "metadata": {},
   "outputs": [
    {
     "data": {
      "text/plain": [
       "LinearRegression()"
      ]
     },
     "execution_count": 898,
     "metadata": {},
     "output_type": "execute_result"
    }
   ],
   "source": [
    "regressor = LinearRegression()\n",
    "regressor.fit(X_train, y_train)"
   ]
  },
  {
   "cell_type": "code",
   "execution_count": 899,
   "metadata": {},
   "outputs": [
    {
     "name": "stdout",
     "output_type": "stream",
     "text": [
      "(500, 1)\n",
      "rmse: 5.8292754056173\n",
      "Mean absolute error: 4.9345213642673516\n"
     ]
    }
   ],
   "source": [
    "y_pred = regressor.predict(X_test) \n",
    "\n",
    "print(y_pred.shape)\n",
    "\n",
    "error=np.sqrt(np.mean(np.square(y_test-y_pred)))  #without dayofweek 4.17803464\n",
    "print(\"rmse:\",error)\n",
    "mae = np.abs(y_test-y_pred).mean()\n",
    "print(\"Mean absolute error:\",mae)\n"
   ]
  },
  {
   "cell_type": "code",
   "execution_count": 900,
   "metadata": {},
   "outputs": [
    {
     "data": {
      "text/plain": [
       "Text(0.5, 1.0, 'Frequency distribution of difference between true and predicted Tin ')"
      ]
     },
     "execution_count": 900,
     "metadata": {},
     "output_type": "execute_result"
    },
    {
     "data": {
      "image/png": "[encoded data removed]",
      "text/plain": [
       "<Figure size 432x288 with 1 Axes>"
      ]
     },
     "metadata": {
      "needs_background": "light"
     },
     "output_type": "display_data"
    }
   ],
   "source": [
    "xx=[(i) for i in range(y_annpred.shape[0])]\n",
    "plt.figure(1)\n",
    "diff=abs(y_test-y_annpred)\n",
    "#plt.plot(xx,diff)\n",
    "plt.hist(diff)\n",
    "#plt.plot(xx,y_test[0:10,:])\n",
    "#plt.plot(xx,y_annpred[0:10,:])\n",
    "plt.ylabel('Number of data')\n",
    "plt.xlabel('Difference between Real and Predicted Tin (F)')\n",
    "plt.title('Frequency distribution of difference between true and predicted Tin ')"
   ]
  },
  {
   "cell_type": "code",
   "execution_count": 901,
   "metadata": {},
   "outputs": [],
   "source": [
    "#Random Forest\n",
    "from sklearn.ensemble import RandomForestRegressor"
   ]
  },
  {
   "cell_type": "code",
   "execution_count": 902,
   "metadata": {},
   "outputs": [
    {
     "data": {
      "text/plain": [
       "RandomForestRegressor()"
      ]
     },
     "execution_count": 902,
     "metadata": {},
     "output_type": "execute_result"
    }
   ],
   "source": [
    "#Random Forest\n",
    "model = RandomForestRegressor()\n",
    "model.fit(X_train,y_train.reshape(4050))"
   ]
  },
  {
   "cell_type": "code",
   "execution_count": 903,
   "metadata": {},
   "outputs": [
    {
     "name": "stdout",
     "output_type": "stream",
     "text": [
      "rmse: 7.132514442806889\n",
      "Mean absolute error: 5.831790807491033\n"
     ]
    }
   ],
   "source": [
    "y_rfpred=model.predict(X_test)\n",
    "rf_error=np.sqrt(np.mean(np.square(y_test-y_rfpred)))\n",
    "print(\"rmse:\",rf_error)\n",
    "mae = np.abs(y_test-y_rfpred).mean()\n",
    "print(\"Mean absolute error:\",mae)"
   ]
  },
  {
   "cell_type": "code",
   "execution_count": 904,
   "metadata": {},
   "outputs": [
    {
     "data": {
      "text/plain": [
       "Text(0.5, 1.0, 'Frequency distribution of difference between true and predicted Tin ')"
      ]
     },
     "execution_count": 904,
     "metadata": {},
     "output_type": "execute_result"
    },
    {
     "data": {
      "image/png": "[encoded data removed]",
      "text/plain": [
       "<Figure size 432x288 with 1 Axes>"
      ]
     },
     "metadata": {
      "needs_background": "light"
     },
     "output_type": "display_data"
    }
   ],
   "source": [
    "xx=[(i) for i in range(y_rfpred.shape[0])]\n",
    "plt.figure(1)\n",
    "diff=abs(y_test-y_rfpred)\n",
    "#plt.plot(xx,diff)\n",
    "plt.hist(diff)\n",
    "#plt.plot(xx,y_test[0:10,:])\n",
    "#plt.plot(xx,y_annpred[0:10,:])\n",
    "plt.ylabel('Number of data')\n",
    "plt.xlabel('Difference between Real and Predicted Tin (F)')\n",
    "plt.title('Frequency distribution of difference between true and predicted Tin ')"
   ]
  },
  {
   "cell_type": "code",
   "execution_count": 905,
   "metadata": {},
   "outputs": [
    {
     "data": {
      "text/plain": [
       "KNeighborsRegressor(n_neighbors=10)"
      ]
     },
     "execution_count": 905,
     "metadata": {},
     "output_type": "execute_result"
    }
   ],
   "source": [
    "#KNN\n",
    "from sklearn.neighbors import KNeighborsRegressor\n",
    "neigh = KNeighborsRegressor(n_neighbors=10)\n",
    "neigh.fit(X_train, y_train)"
   ]
  },
  {
   "cell_type": "code",
   "execution_count": 906,
   "metadata": {},
   "outputs": [
    {
     "name": "stdout",
     "output_type": "stream",
     "text": [
      "rmse: 6.145219984068366\n",
      "Mean absolute error: 5.154404950641838\n"
     ]
    }
   ],
   "source": [
    "y_knnpred=neigh.predict(X_test)\n",
    "knn_error=np.sqrt(np.mean(np.square(y_test-y_knnpred)))\n",
    "print(\"rmse:\",knn_error) # k=11 4.101645\n",
    "mae = np.abs(y_test-y_knnpred).mean()\n",
    "print(\"Mean absolute error:\",mae) # 2.86824"
   ]
  },
  {
   "cell_type": "code",
   "execution_count": 907,
   "metadata": {},
   "outputs": [
    {
     "data": {
      "text/plain": [
       "Text(0.5, 1.0, 'Frequency distribution of difference between true and predicted Tin ')"
      ]
     },
     "execution_count": 907,
     "metadata": {},
     "output_type": "execute_result"
    },
    {
     "data": {
      "image/png": "[encoded data removed]",
      "text/plain": [
       "<Figure size 432x288 with 1 Axes>"
      ]
     },
     "metadata": {
      "needs_background": "light"
     },
     "output_type": "display_data"
    }
   ],
   "source": [
    "xx=[(i) for i in range(y_knnpred.shape[0])]\n",
    "plt.figure(1)\n",
    "diff=abs(y_test-y_knnpred)\n",
    "#plt.plot(xx,diff)\n",
    "plt.hist(diff)\n",
    "#plt.plot(xx,y_test[0:10,:])\n",
    "#plt.plot(xx,y_annpred[0:10,:])\n",
    "plt.ylabel('Number of data')\n",
    "plt.xlabel('Difference between Real and Predicted Tin (F)')\n",
    "plt.title('Frequency distribution of difference between true and predicted Tin ')"
   ]
  },
  {
   "cell_type": "code",
   "execution_count": null,
   "metadata": {},
   "outputs": [],
   "source": []
  }
 ],
 "metadata": {
  "kernelspec": {
   "display_name": "Python 3",
   "language": "python",
   "name": "python3"
  },
  "language_info": {
   "codemirror_mode": {
    "name": "ipython",
    "version": 3
   },
   "file_extension": ".py",
   "mimetype": "text/x-python",
   "name": "python",
   "nbconvert_exporter": "python",
   "pygments_lexer": "ipython3",
   "version": "3.8.5"
  }
 },
 "nbformat": 4,
 "nbformat_minor": 4
}
