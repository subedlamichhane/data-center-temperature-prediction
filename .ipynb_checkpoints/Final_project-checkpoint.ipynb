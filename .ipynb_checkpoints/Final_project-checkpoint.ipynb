{
 "cells": [
  {
   "cell_type": "code",
   "execution_count": 345,
   "metadata": {},
   "outputs": [],
   "source": [
    "import numpy as np\n",
    "import pandas as pd\n",
    "import tensorflow as tf \n",
    "import tensorflow.keras.layers as layer\n",
    "from tensorflow.keras.layers.experimental import preprocessing\n",
    "from math import floor, ceil\n",
    "from tensorflow import keras\n",
    "from tensorflow import keras\n",
    "from sklearn.model_selection import train_test_split\n",
    "from keras.callbacks import ModelCheckpoint\n",
    "import matplotlib.pyplot as plt\n",
    "from sklearn.linear_model import LinearRegression"
   ]
  },
  {
   "cell_type": "code",
   "execution_count": 691,
   "metadata": {},
   "outputs": [],
   "source": [
    "H=np.random.normal(loc=0.0001, scale=0.000009, size=(5000,5000))"
   ]
  },
  {
   "cell_type": "code",
   "execution_count": 692,
   "metadata": {},
   "outputs": [
    {
     "name": "stdout",
     "output_type": "stream",
     "text": [
      "[[9.34131436e-05 8.48581124e-05 9.84487969e-05 ... 1.15597336e-04\n",
      "  1.11633073e-04 7.38581308e-05]\n",
      " [8.81196671e-05 1.02539801e-04 9.84688752e-05 ... 9.26695044e-05\n",
      "  9.93790916e-05 1.01457835e-04]\n",
      " [1.08076572e-04 1.04831109e-04 8.64889477e-05 ... 1.00418239e-04\n",
      "  7.74561789e-05 1.05580196e-04]\n",
      " ...\n",
      " [8.87858049e-05 1.09871068e-04 8.90274948e-05 ... 1.11458710e-04\n",
      "  9.65913027e-05 9.53649885e-05]\n",
      " [1.07881123e-04 9.54488588e-05 1.01686747e-04 ... 9.36776557e-05\n",
      "  1.06924572e-04 9.46778570e-05]\n",
      " [1.00223414e-04 9.69509613e-05 1.10049527e-04 ... 9.71624347e-05\n",
      "  9.05227863e-05 8.57936191e-05]]\n"
     ]
    }
   ],
   "source": [
    "print(H)"
   ]
  },
  {
   "cell_type": "code",
   "execution_count": 693,
   "metadata": {},
   "outputs": [],
   "source": [
    "Tsup=np.random.uniform(low=55, high=75, size=(5000,1))"
   ]
  },
  {
   "cell_type": "code",
   "execution_count": 694,
   "metadata": {},
   "outputs": [
    {
     "name": "stdout",
     "output_type": "stream",
     "text": [
      "[[55.68873256]\n",
      " [65.0531031 ]\n",
      " [57.18403196]\n",
      " ...\n",
      " [61.98015575]\n",
      " [60.63370705]\n",
      " [67.28798172]]\n"
     ]
    }
   ],
   "source": [
    "print(Tsup)\n"
   ]
  },
  {
   "cell_type": "code",
   "execution_count": 695,
   "metadata": {},
   "outputs": [],
   "source": [
    "P=np.random.uniform(low=7, high=20, size=(5000,1))"
   ]
  },
  {
   "cell_type": "code",
   "execution_count": 696,
   "metadata": {},
   "outputs": [
    {
     "name": "stdout",
     "output_type": "stream",
     "text": [
      "[[ 7.37972227]\n",
      " [14.00184871]\n",
      " [13.93211684]\n",
      " ...\n",
      " [15.49277136]\n",
      " [ 8.88382751]\n",
      " [18.90118908]]\n"
     ]
    }
   ],
   "source": [
    "print(P)"
   ]
  },
  {
   "cell_type": "code",
   "execution_count": 697,
   "metadata": {},
   "outputs": [],
   "source": [
    "addd=np.matmul(H,P)"
   ]
  },
  {
   "cell_type": "code",
   "execution_count": 698,
   "metadata": {},
   "outputs": [
    {
     "name": "stdout",
     "output_type": "stream",
     "text": [
      "[[6.79209161]\n",
      " [6.78333633]\n",
      " [6.79548506]\n",
      " ...\n",
      " [6.77877995]\n",
      " [6.7839543 ]\n",
      " [6.7932139 ]]\n"
     ]
    }
   ],
   "source": [
    "print(addd)"
   ]
  },
  {
   "cell_type": "code",
   "execution_count": 699,
   "metadata": {},
   "outputs": [],
   "source": [
    "noise=np.random.normal(loc=3, scale=2, size=(5000,1))"
   ]
  },
  {
   "cell_type": "code",
   "execution_count": 700,
   "metadata": {},
   "outputs": [
    {
     "name": "stdout",
     "output_type": "stream",
     "text": [
      "[[1.57856324]\n",
      " [3.93798907]\n",
      " [2.43909425]\n",
      " ...\n",
      " [0.44501721]\n",
      " [2.91963537]\n",
      " [4.89837009]]\n"
     ]
    }
   ],
   "source": [
    "print(noise)"
   ]
  },
  {
   "cell_type": "code",
   "execution_count": 701,
   "metadata": {},
   "outputs": [],
   "source": [
    "Tin_true=Tsup+addd+noise"
   ]
  },
  {
   "cell_type": "code",
   "execution_count": 702,
   "metadata": {},
   "outputs": [
    {
     "name": "stdout",
     "output_type": "stream",
     "text": [
      "[[64.05938741]\n",
      " [75.77442851]\n",
      " [66.41861127]\n",
      " ...\n",
      " [69.20395291]\n",
      " [70.33729672]\n",
      " [78.97956571]]\n"
     ]
    }
   ],
   "source": [
    "print(Tin_true)"
   ]
  },
  {
   "cell_type": "code",
   "execution_count": 703,
   "metadata": {},
   "outputs": [
    {
     "name": "stdout",
     "output_type": "stream",
     "text": [
      "range of Tin is:  [59.1116364] to [89.53830597]\n"
     ]
    }
   ],
   "source": [
    "print(\"range of Tin is: \",min(Tin_true), \"to\", max(Tin_true))"
   ]
  },
  {
   "cell_type": "code",
   "execution_count": 704,
   "metadata": {},
   "outputs": [
    {
     "name": "stdout",
     "output_type": "stream",
     "text": [
      "(5000, 1)\n"
     ]
    }
   ],
   "source": [
    "print(Tin_true.shape)"
   ]
  },
  {
   "cell_type": "code",
   "execution_count": 705,
   "metadata": {},
   "outputs": [
    {
     "name": "stdout",
     "output_type": "stream",
     "text": [
      " range of Tin is:  [59.1116364]   to   [89.53830597]\n"
     ]
    }
   ],
   "source": [
    "print(\" range of Tin is: \", min(Tin_true) ,\"  to  \", max(Tin_true) )"
   ]
  },
  {
   "cell_type": "code",
   "execution_count": 706,
   "metadata": {},
   "outputs": [],
   "source": [
    "X=P\n",
    "y=Tin_true"
   ]
  },
  {
   "cell_type": "code",
   "execution_count": 707,
   "metadata": {},
   "outputs": [],
   "source": [
    "X_train, X_test, y_train, y_test = train_test_split(\n",
    "    X, y, test_size=0.10,shuffle=True)\n",
    "X_train, X_val, y_train, y_val = train_test_split(\n",
    "    X_train, y_train, test_size=0.10,shuffle=True)"
   ]
  },
  {
   "cell_type": "code",
   "execution_count": 708,
   "metadata": {},
   "outputs": [
    {
     "name": "stdout",
     "output_type": "stream",
     "text": [
      "(4050, 1)\n",
      "(450, 1)\n",
      "(500, 1)\n"
     ]
    }
   ],
   "source": [
    "print(X_train.shape)\n",
    "print(X_val.shape)\n",
    "print(X_test.shape)"
   ]
  },
  {
   "cell_type": "code",
   "execution_count": 709,
   "metadata": {},
   "outputs": [],
   "source": [
    "#ANN\n",
    "ann=tf.keras.models.Sequential()\n",
    "ann.add(tf.keras.layers.Dense(units=128, activation='relu',input_shape=[1])) \n",
    "ann.add(tf.keras.layers.Dense(units=128, activation='relu'))\n",
    "ann.add(tf.keras.layers.Dense(units=128, activation='tanh'))\n",
    "#ann.add(tf.keras.layers.Dense(units=512, activation='tanh'))\n",
    "#ann.add(tf.keras.layers.Dense(units=256, activation='tanh'))\n",
    "#ann.add(tf.keras.layers.Dense(units=128, activation='tanh'))\n",
    "ann.add(tf.keras.layers.Dense(units=1, activation='linear'))"
   ]
  },
  {
   "cell_type": "code",
   "execution_count": 718,
   "metadata": {},
   "outputs": [
    {
     "name": "stdout",
     "output_type": "stream",
     "text": [
      "Model: \"sequential_28\"\n",
      "_________________________________________________________________\n",
      "Layer (type)                 Output Shape              Param #   \n",
      "=================================================================\n",
      "dense_111 (Dense)            (None, 128)               256       \n",
      "_________________________________________________________________\n",
      "dense_112 (Dense)            (None, 128)               16512     \n",
      "_________________________________________________________________\n",
      "dense_113 (Dense)            (None, 128)               16512     \n",
      "_________________________________________________________________\n",
      "dense_114 (Dense)            (None, 1)                 129       \n",
      "=================================================================\n",
      "Total params: 33,409\n",
      "Trainable params: 33,409\n",
      "Non-trainable params: 0\n",
      "_________________________________________________________________\n"
     ]
    }
   ],
   "source": [
    "optimizer=keras.optimizers.Adam(learning_rate=0.0001) #best=0.001\n",
    "ann.compile(optimizer = optimizer, loss = 'mean_absolute_error', metrics = ['mean_absolute_error'])\n",
    "ann.summary()"
   ]
  },
  {
   "cell_type": "code",
   "execution_count": 719,
   "metadata": {},
   "outputs": [],
   "source": [
    "checkpoint_name = './weights/Weights-{epoch:03d}--{val_loss:.5f}.hdf5' \n",
    "checkpoint = ModelCheckpoint(checkpoint_name, monitor='val_loss', verbose = 1, save_best_only = True, mode ='auto')\n",
    "callbacks_list = [checkpoint]"
   ]
  },
  {
   "cell_type": "code",
   "execution_count": 720,
   "metadata": {},
   "outputs": [],
   "source": [
    "data_validate=(X_val,y_val)\n"
   ]
  },
  {
   "cell_type": "code",
   "execution_count": 721,
   "metadata": {
    "scrolled": true
   },
   "outputs": [
    {
     "name": "stdout",
     "output_type": "stream",
     "text": [
      "Epoch 1/100\n",
      "126/127 [============================>.] - ETA: 0s - loss: 5.2172 - mean_absolute_error: 5.2172\n",
      "Epoch 00001: val_loss improved from inf to 4.93990, saving model to ./weights\\Weights-001--4.93990.hdf5\n",
      "127/127 [==============================] - 0s 4ms/step - loss: 5.2180 - mean_absolute_error: 5.2180 - val_loss: 4.9399 - val_mean_absolute_error: 4.9399\n",
      "Epoch 2/100\n",
      "115/127 [==========================>...] - ETA: 0s - loss: 5.2075 - mean_absolute_error: 5.2075\n",
      "Epoch 00002: val_loss improved from 4.93990 to 4.93990, saving model to ./weights\\Weights-002--4.93990.hdf5\n",
      "127/127 [==============================] - 0s 2ms/step - loss: 5.2172 - mean_absolute_error: 5.2172 - val_loss: 4.9399 - val_mean_absolute_error: 4.9399\n",
      "Epoch 3/100\n",
      "112/127 [=========================>....] - ETA: 0s - loss: 5.2305 - mean_absolute_error: 5.2305\n",
      "Epoch 00003: val_loss improved from 4.93990 to 4.93990, saving model to ./weights\\Weights-003--4.93990.hdf5\n",
      "127/127 [==============================] - 0s 2ms/step - loss: 5.2174 - mean_absolute_error: 5.2174 - val_loss: 4.9399 - val_mean_absolute_error: 4.9399\n",
      "Epoch 4/100\n",
      "119/127 [===========================>..] - ETA: 0s - loss: 5.2269 - mean_absolute_error: 5.2269\n",
      "Epoch 00004: val_loss did not improve from 4.93990\n",
      "127/127 [==============================] - 0s 3ms/step - loss: 5.2170 - mean_absolute_error: 5.2170 - val_loss: 4.9399 - val_mean_absolute_error: 4.9399\n",
      "Epoch 5/100\n",
      "115/127 [==========================>...] - ETA: 0s - loss: 5.2119 - mean_absolute_error: 5.2119\n",
      "Epoch 00005: val_loss improved from 4.93990 to 4.93989, saving model to ./weights\\Weights-005--4.93989.hdf5\n",
      "127/127 [==============================] - 0s 3ms/step - loss: 5.2173 - mean_absolute_error: 5.2173 - val_loss: 4.9399 - val_mean_absolute_error: 4.9399\n",
      "Epoch 6/100\n",
      "113/127 [=========================>....] - ETA: 0s - loss: 5.2263 - mean_absolute_error: 5.2263\n",
      "Epoch 00006: val_loss did not improve from 4.93989\n",
      "127/127 [==============================] - 0s 2ms/step - loss: 5.2171 - mean_absolute_error: 5.2171 - val_loss: 4.9401 - val_mean_absolute_error: 4.9401\n",
      "Epoch 7/100\n",
      "117/127 [==========================>...] - ETA: 0s - loss: 5.1989 - mean_absolute_error: 5.1989\n",
      "Epoch 00007: val_loss improved from 4.93989 to 4.93989, saving model to ./weights\\Weights-007--4.93989.hdf5\n",
      "127/127 [==============================] - 0s 2ms/step - loss: 5.2174 - mean_absolute_error: 5.2174 - val_loss: 4.9399 - val_mean_absolute_error: 4.9399\n",
      "Epoch 8/100\n",
      "117/127 [==========================>...] - ETA: 0s - loss: 5.2061 - mean_absolute_error: 5.2061\n",
      "Epoch 00008: val_loss did not improve from 4.93989\n",
      "127/127 [==============================] - 0s 2ms/step - loss: 5.2176 - mean_absolute_error: 5.2176 - val_loss: 4.9399 - val_mean_absolute_error: 4.9399\n",
      "Epoch 9/100\n",
      "112/127 [=========================>....] - ETA: 0s - loss: 5.2171 - mean_absolute_error: 5.2171\n",
      "Epoch 00009: val_loss did not improve from 4.93989\n",
      "127/127 [==============================] - 0s 2ms/step - loss: 5.2172 - mean_absolute_error: 5.2172 - val_loss: 4.9399 - val_mean_absolute_error: 4.9399\n",
      "Epoch 10/100\n",
      "101/127 [======================>.......] - ETA: 0s - loss: 5.2624 - mean_absolute_error: 5.2624\n",
      "Epoch 00010: val_loss did not improve from 4.93989\n",
      "127/127 [==============================] - 0s 2ms/step - loss: 5.2179 - mean_absolute_error: 5.2179 - val_loss: 4.9400 - val_mean_absolute_error: 4.9400\n",
      "Epoch 11/100\n",
      "107/127 [========================>.....] - ETA: 0s - loss: 5.2231 - mean_absolute_error: 5.2231\n",
      "Epoch 00011: val_loss did not improve from 4.93989\n",
      "127/127 [==============================] - 0s 2ms/step - loss: 5.2171 - mean_absolute_error: 5.2171 - val_loss: 4.9399 - val_mean_absolute_error: 4.9399\n",
      "Epoch 12/100\n",
      "127/127 [==============================] - ETA: 0s - loss: 5.2176 - mean_absolute_error: 5.2176\n",
      "Epoch 00012: val_loss did not improve from 4.93989\n",
      "127/127 [==============================] - 0s 2ms/step - loss: 5.2176 - mean_absolute_error: 5.2176 - val_loss: 4.9403 - val_mean_absolute_error: 4.9403\n",
      "Epoch 13/100\n",
      "122/127 [===========================>..] - ETA: 0s - loss: 5.2265 - mean_absolute_error: 5.2265\n",
      "Epoch 00013: val_loss improved from 4.93989 to 4.93989, saving model to ./weights\\Weights-013--4.93989.hdf5\n",
      "127/127 [==============================] - 0s 3ms/step - loss: 5.2179 - mean_absolute_error: 5.2179 - val_loss: 4.9399 - val_mean_absolute_error: 4.9399\n",
      "Epoch 14/100\n",
      "120/127 [===========================>..] - ETA: 0s - loss: 5.2282 - mean_absolute_error: 5.2282\n",
      "Epoch 00014: val_loss did not improve from 4.93989\n",
      "127/127 [==============================] - 0s 4ms/step - loss: 5.2178 - mean_absolute_error: 5.2178 - val_loss: 4.9402 - val_mean_absolute_error: 4.9402\n",
      "Epoch 15/100\n",
      "113/127 [=========================>....] - ETA: 0s - loss: 5.1965 - mean_absolute_error: 5.1965\n",
      "Epoch 00015: val_loss improved from 4.93989 to 4.93989, saving model to ./weights\\Weights-015--4.93989.hdf5\n",
      "127/127 [==============================] - 0s 4ms/step - loss: 5.2174 - mean_absolute_error: 5.2174 - val_loss: 4.9399 - val_mean_absolute_error: 4.9399\n",
      "Epoch 16/100\n",
      "112/127 [=========================>....] - ETA: 0s - loss: 5.2176 - mean_absolute_error: 5.2176\n",
      "Epoch 00016: val_loss did not improve from 4.93989\n",
      "127/127 [==============================] - 0s 3ms/step - loss: 5.2176 - mean_absolute_error: 5.2176 - val_loss: 4.9403 - val_mean_absolute_error: 4.9403\n",
      "Epoch 17/100\n",
      "114/127 [=========================>....] - ETA: 0s - loss: 5.1948 - mean_absolute_error: 5.1948\n",
      "Epoch 00017: val_loss did not improve from 4.93989\n",
      "127/127 [==============================] - 0s 3ms/step - loss: 5.2172 - mean_absolute_error: 5.2172 - val_loss: 4.9400 - val_mean_absolute_error: 4.9400\n",
      "Epoch 18/100\n",
      "120/127 [===========================>..] - ETA: 0s - loss: 5.2206 - mean_absolute_error: 5.2206\n",
      "Epoch 00018: val_loss improved from 4.93989 to 4.93989, saving model to ./weights\\Weights-018--4.93989.hdf5\n",
      "127/127 [==============================] - 0s 3ms/step - loss: 5.2177 - mean_absolute_error: 5.2177 - val_loss: 4.9399 - val_mean_absolute_error: 4.9399\n",
      "Epoch 19/100\n",
      "127/127 [==============================] - ETA: 0s - loss: 5.2174 - mean_absolute_error: 5.2174\n",
      "Epoch 00019: val_loss did not improve from 4.93989\n",
      "127/127 [==============================] - 0s 3ms/step - loss: 5.2174 - mean_absolute_error: 5.2174 - val_loss: 4.9399 - val_mean_absolute_error: 4.9399\n",
      "Epoch 20/100\n",
      "109/127 [========================>.....] - ETA: 0s - loss: 5.2128 - mean_absolute_error: 5.2128\n",
      "Epoch 00020: val_loss did not improve from 4.93989\n",
      "127/127 [==============================] - 0s 3ms/step - loss: 5.2173 - mean_absolute_error: 5.2173 - val_loss: 4.9399 - val_mean_absolute_error: 4.9399\n",
      "Epoch 21/100\n",
      "109/127 [========================>.....] - ETA: 0s - loss: 5.2335 - mean_absolute_error: 5.2335\n",
      "Epoch 00021: val_loss did not improve from 4.93989\n",
      "127/127 [==============================] - 0s 3ms/step - loss: 5.2173 - mean_absolute_error: 5.2173 - val_loss: 4.9400 - val_mean_absolute_error: 4.9400\n",
      "Epoch 22/100\n",
      "111/127 [=========================>....] - ETA: 0s - loss: 5.2088 - mean_absolute_error: 5.2088\n",
      "Epoch 00022: val_loss did not improve from 4.93989\n",
      "127/127 [==============================] - 0s 3ms/step - loss: 5.2178 - mean_absolute_error: 5.2178 - val_loss: 4.9399 - val_mean_absolute_error: 4.9399\n",
      "Epoch 23/100\n",
      "101/127 [======================>.......] - ETA: 0s - loss: 5.2046 - mean_absolute_error: 5.2046\n",
      "Epoch 00023: val_loss did not improve from 4.93989\n",
      "127/127 [==============================] - 0s 2ms/step - loss: 5.2172 - mean_absolute_error: 5.2172 - val_loss: 4.9400 - val_mean_absolute_error: 4.9400\n",
      "Epoch 24/100\n",
      "105/127 [=======================>......] - ETA: 0s - loss: 5.2168 - mean_absolute_error: 5.2168\n",
      "Epoch 00024: val_loss did not improve from 4.93989\n",
      "127/127 [==============================] - 0s 2ms/step - loss: 5.2179 - mean_absolute_error: 5.2179 - val_loss: 4.9406 - val_mean_absolute_error: 4.9406\n",
      "Epoch 25/100\n",
      "125/127 [============================>.] - ETA: 0s - loss: 5.2150 - mean_absolute_error: 5.2150\n",
      "Epoch 00025: val_loss did not improve from 4.93989\n",
      "127/127 [==============================] - 0s 2ms/step - loss: 5.2174 - mean_absolute_error: 5.2174 - val_loss: 4.9399 - val_mean_absolute_error: 4.9399\n"
     ]
    },
    {
     "name": "stdout",
     "output_type": "stream",
     "text": [
      "Epoch 26/100\n",
      "114/127 [=========================>....] - ETA: 0s - loss: 5.2182 - mean_absolute_error: 5.2182\n",
      "Epoch 00026: val_loss did not improve from 4.93989\n",
      "127/127 [==============================] - 0s 2ms/step - loss: 5.2176 - mean_absolute_error: 5.2176 - val_loss: 4.9399 - val_mean_absolute_error: 4.9399\n",
      "Epoch 27/100\n",
      "100/127 [======================>.......] - ETA: 0s - loss: 5.2586 - mean_absolute_error: 5.2586\n",
      "Epoch 00027: val_loss improved from 4.93989 to 4.93989, saving model to ./weights\\Weights-027--4.93989.hdf5\n",
      "127/127 [==============================] - 0s 3ms/step - loss: 5.2177 - mean_absolute_error: 5.2177 - val_loss: 4.9399 - val_mean_absolute_error: 4.9399\n",
      "Epoch 28/100\n",
      "121/127 [===========================>..] - ETA: 0s - loss: 5.2290 - mean_absolute_error: 5.2290\n",
      "Epoch 00028: val_loss did not improve from 4.93989\n",
      "127/127 [==============================] - 0s 2ms/step - loss: 5.2177 - mean_absolute_error: 5.2177 - val_loss: 4.9400 - val_mean_absolute_error: 4.9400\n",
      "Epoch 29/100\n",
      "123/127 [============================>.] - ETA: 0s - loss: 5.2184 - mean_absolute_error: 5.2184\n",
      "Epoch 00029: val_loss did not improve from 4.93989\n",
      "127/127 [==============================] - 0s 2ms/step - loss: 5.2174 - mean_absolute_error: 5.2174 - val_loss: 4.9400 - val_mean_absolute_error: 4.9400\n",
      "Epoch 30/100\n",
      "117/127 [==========================>...] - ETA: 0s - loss: 5.2364 - mean_absolute_error: 5.2364\n",
      "Epoch 00030: val_loss did not improve from 4.93989\n",
      "127/127 [==============================] - 0s 2ms/step - loss: 5.2174 - mean_absolute_error: 5.2174 - val_loss: 4.9403 - val_mean_absolute_error: 4.9403\n",
      "Epoch 31/100\n",
      "111/127 [=========================>....] - ETA: 0s - loss: 5.2069 - mean_absolute_error: 5.2069\n",
      "Epoch 00031: val_loss did not improve from 4.93989\n",
      "127/127 [==============================] - 0s 2ms/step - loss: 5.2176 - mean_absolute_error: 5.2176 - val_loss: 4.9400 - val_mean_absolute_error: 4.9400\n",
      "Epoch 32/100\n",
      "121/127 [===========================>..] - ETA: 0s - loss: 5.2120 - mean_absolute_error: 5.2120\n",
      "Epoch 00032: val_loss did not improve from 4.93989\n",
      "127/127 [==============================] - 0s 2ms/step - loss: 5.2172 - mean_absolute_error: 5.2172 - val_loss: 4.9401 - val_mean_absolute_error: 4.9401\n",
      "Epoch 33/100\n",
      "109/127 [========================>.....] - ETA: 0s - loss: 5.2220 - mean_absolute_error: 5.2220\n",
      "Epoch 00033: val_loss did not improve from 4.93989\n",
      "127/127 [==============================] - 0s 3ms/step - loss: 5.2173 - mean_absolute_error: 5.2173 - val_loss: 4.9400 - val_mean_absolute_error: 4.9400\n",
      "Epoch 34/100\n",
      "124/127 [============================>.] - ETA: 0s - loss: 5.2259 - mean_absolute_error: 5.2259\n",
      "Epoch 00034: val_loss did not improve from 4.93989\n",
      "127/127 [==============================] - 0s 2ms/step - loss: 5.2175 - mean_absolute_error: 5.2175 - val_loss: 4.9400 - val_mean_absolute_error: 4.9400\n",
      "Epoch 35/100\n",
      "117/127 [==========================>...] - ETA: 0s - loss: 5.2077 - mean_absolute_error: 5.2077\n",
      "Epoch 00035: val_loss did not improve from 4.93989\n",
      "127/127 [==============================] - 0s 3ms/step - loss: 5.2178 - mean_absolute_error: 5.2178 - val_loss: 4.9399 - val_mean_absolute_error: 4.9399\n",
      "Epoch 36/100\n",
      "123/127 [============================>.] - ETA: 0s - loss: 5.2197 - mean_absolute_error: 5.2197\n",
      "Epoch 00036: val_loss did not improve from 4.93989\n",
      "127/127 [==============================] - 0s 2ms/step - loss: 5.2176 - mean_absolute_error: 5.2176 - val_loss: 4.9400 - val_mean_absolute_error: 4.9400\n",
      "Epoch 37/100\n",
      "102/127 [=======================>......] - ETA: 0s - loss: 5.2473 - mean_absolute_error: 5.2473\n",
      "Epoch 00037: val_loss did not improve from 4.93989\n",
      "127/127 [==============================] - 0s 2ms/step - loss: 5.2177 - mean_absolute_error: 5.2177 - val_loss: 4.9404 - val_mean_absolute_error: 4.9404\n",
      "Epoch 38/100\n",
      "121/127 [===========================>..] - ETA: 0s - loss: 5.2247 - mean_absolute_error: 5.2247\n",
      "Epoch 00038: val_loss did not improve from 4.93989\n",
      "127/127 [==============================] - 0s 2ms/step - loss: 5.2176 - mean_absolute_error: 5.2176 - val_loss: 4.9404 - val_mean_absolute_error: 4.9404\n",
      "Epoch 39/100\n",
      "124/127 [============================>.] - ETA: 0s - loss: 5.2181 - mean_absolute_error: 5.2181\n",
      "Epoch 00039: val_loss did not improve from 4.93989\n",
      "127/127 [==============================] - 0s 2ms/step - loss: 5.2174 - mean_absolute_error: 5.2174 - val_loss: 4.9401 - val_mean_absolute_error: 4.9401\n",
      "Epoch 40/100\n",
      "127/127 [==============================] - ETA: 0s - loss: 5.2172 - mean_absolute_error: 5.2172\n",
      "Epoch 00040: val_loss did not improve from 4.93989\n",
      "127/127 [==============================] - 0s 2ms/step - loss: 5.2172 - mean_absolute_error: 5.2172 - val_loss: 4.9399 - val_mean_absolute_error: 4.9399\n",
      "Epoch 41/100\n",
      "113/127 [=========================>....] - ETA: 0s - loss: 5.2207 - mean_absolute_error: 5.2207- ETA: 0s - loss: 5.3294 - mean_absolute_error: 5\n",
      "Epoch 00041: val_loss did not improve from 4.93989\n",
      "127/127 [==============================] - 1s 4ms/step - loss: 5.2179 - mean_absolute_error: 5.2179 - val_loss: 4.9399 - val_mean_absolute_error: 4.9399\n",
      "Epoch 42/100\n",
      "121/127 [===========================>..] - ETA: 0s - loss: 5.2133 - mean_absolute_error: 5.2133\n",
      "Epoch 00042: val_loss did not improve from 4.93989\n",
      "127/127 [==============================] - 0s 3ms/step - loss: 5.2171 - mean_absolute_error: 5.2171 - val_loss: 4.9399 - val_mean_absolute_error: 4.9399\n",
      "Epoch 43/100\n",
      "123/127 [============================>.] - ETA: 0s - loss: 5.2218 - mean_absolute_error: 5.2218\n",
      "Epoch 00043: val_loss improved from 4.93989 to 4.93989, saving model to ./weights\\Weights-043--4.93989.hdf5\n",
      "127/127 [==============================] - 0s 4ms/step - loss: 5.2172 - mean_absolute_error: 5.2172 - val_loss: 4.9399 - val_mean_absolute_error: 4.9399\n",
      "Epoch 44/100\n",
      "106/127 [========================>.....] - ETA: 0s - loss: 5.2037 - mean_absolute_error: 5.2037\n",
      "Epoch 00044: val_loss did not improve from 4.93989\n",
      "127/127 [==============================] - 0s 3ms/step - loss: 5.2173 - mean_absolute_error: 5.2173 - val_loss: 4.9400 - val_mean_absolute_error: 4.9400\n",
      "Epoch 45/100\n",
      "116/127 [==========================>...] - ETA: 0s - loss: 5.2069 - mean_absolute_error: 5.2069\n",
      "Epoch 00045: val_loss did not improve from 4.93989\n",
      "127/127 [==============================] - 0s 4ms/step - loss: 5.2173 - mean_absolute_error: 5.2173 - val_loss: 4.9399 - val_mean_absolute_error: 4.9399\n",
      "Epoch 46/100\n",
      "123/127 [============================>.] - ETA: 0s - loss: 5.2104 - mean_absolute_error: 5.2104\n",
      "Epoch 00046: val_loss improved from 4.93989 to 4.93989, saving model to ./weights\\Weights-046--4.93989.hdf5\n",
      "127/127 [==============================] - 1s 4ms/step - loss: 5.2173 - mean_absolute_error: 5.2173 - val_loss: 4.9399 - val_mean_absolute_error: 4.9399\n",
      "Epoch 47/100\n",
      "120/127 [===========================>..] - ETA: 0s - loss: 5.2175 - mean_absolute_error: 5.2175\n",
      "Epoch 00047: val_loss did not improve from 4.93989\n",
      "127/127 [==============================] - 0s 3ms/step - loss: 5.2171 - mean_absolute_error: 5.2171 - val_loss: 4.9401 - val_mean_absolute_error: 4.9401\n",
      "Epoch 48/100\n",
      "123/127 [============================>.] - ETA: 0s - loss: 5.2242 - mean_absolute_error: 5.2242\n",
      "Epoch 00048: val_loss did not improve from 4.93989\n",
      "127/127 [==============================] - 0s 2ms/step - loss: 5.2173 - mean_absolute_error: 5.2173 - val_loss: 4.9401 - val_mean_absolute_error: 4.9401\n",
      "Epoch 49/100\n",
      "116/127 [==========================>...] - ETA: 0s - loss: 5.2134 - mean_absolute_error: 5.2134\n",
      "Epoch 00049: val_loss did not improve from 4.93989\n",
      "127/127 [==============================] - 0s 2ms/step - loss: 5.2176 - mean_absolute_error: 5.2176 - val_loss: 4.9399 - val_mean_absolute_error: 4.9399\n",
      "Epoch 50/100\n",
      "123/127 [============================>.] - ETA: 0s - loss: 5.2075 - mean_absolute_error: 5.2075\n",
      "Epoch 00050: val_loss did not improve from 4.93989\n",
      "127/127 [==============================] - 0s 2ms/step - loss: 5.2175 - mean_absolute_error: 5.2175 - val_loss: 4.9399 - val_mean_absolute_error: 4.9399\n",
      "Epoch 51/100\n",
      "118/127 [==========================>...] - ETA: 0s - loss: 5.2323 - mean_absolute_error: 5.2323\n"
     ]
    },
    {
     "name": "stdout",
     "output_type": "stream",
     "text": [
      "Epoch 00051: val_loss did not improve from 4.93989\n",
      "127/127 [==============================] - 1s 5ms/step - loss: 5.2177 - mean_absolute_error: 5.2177 - val_loss: 4.9402 - val_mean_absolute_error: 4.9402\n",
      "Epoch 52/100\n",
      "117/127 [==========================>...] - ETA: 0s - loss: 5.2168 - mean_absolute_error: 5.2168\n",
      "Epoch 00052: val_loss did not improve from 4.93989\n",
      "127/127 [==============================] - 0s 3ms/step - loss: 5.2172 - mean_absolute_error: 5.2172 - val_loss: 4.9400 - val_mean_absolute_error: 4.9400\n",
      "Epoch 53/100\n",
      "109/127 [========================>.....] - ETA: 0s - loss: 5.2218 - mean_absolute_error: 5.2218\n",
      "Epoch 00053: val_loss did not improve from 4.93989\n",
      "127/127 [==============================] - 0s 3ms/step - loss: 5.2176 - mean_absolute_error: 5.2176 - val_loss: 4.9399 - val_mean_absolute_error: 4.9399\n",
      "Epoch 54/100\n",
      "113/127 [=========================>....] - ETA: 0s - loss: 5.2290 - mean_absolute_error: 5.2290\n",
      "Epoch 00054: val_loss did not improve from 4.93989\n",
      "127/127 [==============================] - 0s 3ms/step - loss: 5.2174 - mean_absolute_error: 5.2174 - val_loss: 4.9401 - val_mean_absolute_error: 4.9401\n",
      "Epoch 55/100\n",
      "123/127 [============================>.] - ETA: 0s - loss: 5.2195 - mean_absolute_error: 5.2195\n",
      "Epoch 00055: val_loss did not improve from 4.93989\n",
      "127/127 [==============================] - 0s 2ms/step - loss: 5.2176 - mean_absolute_error: 5.2176 - val_loss: 4.9402 - val_mean_absolute_error: 4.9402\n",
      "Epoch 56/100\n",
      "120/127 [===========================>..] - ETA: 0s - loss: 5.2485 - mean_absolute_error: 5.2485\n",
      "Epoch 00056: val_loss did not improve from 4.93989\n",
      "127/127 [==============================] - 0s 2ms/step - loss: 5.2172 - mean_absolute_error: 5.2172 - val_loss: 4.9400 - val_mean_absolute_error: 4.9400\n",
      "Epoch 57/100\n",
      "127/127 [==============================] - ETA: 0s - loss: 5.2176 - mean_absolute_error: 5.2176\n",
      "Epoch 00057: val_loss did not improve from 4.93989\n",
      "127/127 [==============================] - 0s 2ms/step - loss: 5.2176 - mean_absolute_error: 5.2176 - val_loss: 4.9400 - val_mean_absolute_error: 4.9400\n",
      "Epoch 58/100\n",
      "100/127 [======================>.......] - ETA: 0s - loss: 5.2338 - mean_absolute_error: 5.2338\n",
      "Epoch 00058: val_loss did not improve from 4.93989\n",
      "127/127 [==============================] - 0s 2ms/step - loss: 5.2174 - mean_absolute_error: 5.2174 - val_loss: 4.9400 - val_mean_absolute_error: 4.9400\n",
      "Epoch 59/100\n",
      "102/127 [=======================>......] - ETA: 0s - loss: 5.1624 - mean_absolute_error: 5.1624\n",
      "Epoch 00059: val_loss did not improve from 4.93989\n",
      "127/127 [==============================] - 0s 2ms/step - loss: 5.2172 - mean_absolute_error: 5.2172 - val_loss: 4.9403 - val_mean_absolute_error: 4.9403\n",
      "Epoch 60/100\n",
      " 99/127 [======================>.......] - ETA: 0s - loss: 5.2102 - mean_absolute_error: 5.2102\n",
      "Epoch 00060: val_loss did not improve from 4.93989\n",
      "127/127 [==============================] - 0s 2ms/step - loss: 5.2169 - mean_absolute_error: 5.2169 - val_loss: 4.9399 - val_mean_absolute_error: 4.9399\n",
      "Epoch 61/100\n",
      " 98/127 [======================>.......] - ETA: 0s - loss: 5.2150 - mean_absolute_error: 5.2150\n",
      "Epoch 00061: val_loss did not improve from 4.93989\n",
      "127/127 [==============================] - 0s 2ms/step - loss: 5.2172 - mean_absolute_error: 5.2172 - val_loss: 4.9399 - val_mean_absolute_error: 4.9399\n",
      "Epoch 62/100\n",
      " 99/127 [======================>.......] - ETA: 0s - loss: 5.2178 - mean_absolute_error: 5.2178\n",
      "Epoch 00062: val_loss did not improve from 4.93989\n",
      "127/127 [==============================] - 0s 2ms/step - loss: 5.2175 - mean_absolute_error: 5.2175 - val_loss: 4.9399 - val_mean_absolute_error: 4.9399\n",
      "Epoch 63/100\n",
      "124/127 [============================>.] - ETA: 0s - loss: 5.2129 - mean_absolute_error: 5.2129\n",
      "Epoch 00063: val_loss did not improve from 4.93989\n",
      "127/127 [==============================] - 0s 2ms/step - loss: 5.2172 - mean_absolute_error: 5.2172 - val_loss: 4.9402 - val_mean_absolute_error: 4.9402\n",
      "Epoch 64/100\n",
      "115/127 [==========================>...] - ETA: 0s - loss: 5.2215 - mean_absolute_error: 5.2215\n",
      "Epoch 00064: val_loss did not improve from 4.93989\n",
      "127/127 [==============================] - 0s 2ms/step - loss: 5.2172 - mean_absolute_error: 5.2172 - val_loss: 4.9401 - val_mean_absolute_error: 4.9401\n",
      "Epoch 65/100\n",
      "114/127 [=========================>....] - ETA: 0s - loss: 5.1966 - mean_absolute_error: 5.1966\n",
      "Epoch 00065: val_loss did not improve from 4.93989\n",
      "127/127 [==============================] - 0s 2ms/step - loss: 5.2177 - mean_absolute_error: 5.2177 - val_loss: 4.9399 - val_mean_absolute_error: 4.9399\n",
      "Epoch 66/100\n",
      "120/127 [===========================>..] - ETA: 0s - loss: 5.2180 - mean_absolute_error: 5.2180\n",
      "Epoch 00066: val_loss did not improve from 4.93989\n",
      "127/127 [==============================] - 1s 4ms/step - loss: 5.2170 - mean_absolute_error: 5.2170 - val_loss: 4.9400 - val_mean_absolute_error: 4.9400\n",
      "Epoch 67/100\n",
      "117/127 [==========================>...] - ETA: 0s - loss: 5.1954 - mean_absolute_error: 5.1954\n",
      "Epoch 00067: val_loss did not improve from 4.93989\n",
      "127/127 [==============================] - 1s 5ms/step - loss: 5.2176 - mean_absolute_error: 5.2176 - val_loss: 4.9400 - val_mean_absolute_error: 4.9400\n",
      "Epoch 68/100\n",
      "120/127 [===========================>..] - ETA: 0s - loss: 5.2169 - mean_absolute_error: 5.2169\n",
      "Epoch 00068: val_loss did not improve from 4.93989\n",
      "127/127 [==============================] - 0s 3ms/step - loss: 5.2171 - mean_absolute_error: 5.2171 - val_loss: 4.9399 - val_mean_absolute_error: 4.9399\n",
      "Epoch 69/100\n",
      "120/127 [===========================>..] - ETA: 0s - loss: 5.2213 - mean_absolute_error: 5.2213\n",
      "Epoch 00069: val_loss did not improve from 4.93989\n",
      "127/127 [==============================] - 0s 3ms/step - loss: 5.2173 - mean_absolute_error: 5.2173 - val_loss: 4.9400 - val_mean_absolute_error: 4.9400\n",
      "Epoch 70/100\n",
      "107/127 [========================>.....] - ETA: 0s - loss: 5.1736 - mean_absolute_error: 5.1736\n",
      "Epoch 00070: val_loss did not improve from 4.93989\n",
      "127/127 [==============================] - 0s 2ms/step - loss: 5.2179 - mean_absolute_error: 5.2179 - val_loss: 4.9399 - val_mean_absolute_error: 4.9399\n",
      "Epoch 71/100\n",
      "108/127 [========================>.....] - ETA: 0s - loss: 5.2406 - mean_absolute_error: 5.2406\n",
      "Epoch 00071: val_loss improved from 4.93989 to 4.93989, saving model to ./weights\\Weights-071--4.93989.hdf5\n",
      "127/127 [==============================] - 0s 2ms/step - loss: 5.2178 - mean_absolute_error: 5.2178 - val_loss: 4.9399 - val_mean_absolute_error: 4.9399\n",
      "Epoch 72/100\n",
      "107/127 [========================>.....] - ETA: 0s - loss: 5.2252 - mean_absolute_error: 5.2252\n",
      "Epoch 00072: val_loss did not improve from 4.93989\n",
      "127/127 [==============================] - 0s 2ms/step - loss: 5.2176 - mean_absolute_error: 5.2176 - val_loss: 4.9401 - val_mean_absolute_error: 4.9401\n",
      "Epoch 73/100\n",
      "108/127 [========================>.....] - ETA: 0s - loss: 5.1943 - mean_absolute_error: 5.1943\n",
      "Epoch 00073: val_loss did not improve from 4.93989\n",
      "127/127 [==============================] - 0s 3ms/step - loss: 5.2177 - mean_absolute_error: 5.2177 - val_loss: 4.9401 - val_mean_absolute_error: 4.9401\n",
      "Epoch 74/100\n",
      "107/127 [========================>.....] - ETA: 0s - loss: 5.2501 - mean_absolute_error: 5.2501\n",
      "Epoch 00074: val_loss did not improve from 4.93989\n",
      "127/127 [==============================] - 0s 2ms/step - loss: 5.2175 - mean_absolute_error: 5.2175 - val_loss: 4.9400 - val_mean_absolute_error: 4.9400\n",
      "Epoch 75/100\n",
      "127/127 [==============================] - ETA: 0s - loss: 5.2174 - mean_absolute_error: 5.2174\n",
      "Epoch 00075: val_loss did not improve from 4.93989\n",
      "127/127 [==============================] - 0s 2ms/step - loss: 5.2174 - mean_absolute_error: 5.2174 - val_loss: 4.9403 - val_mean_absolute_error: 4.9403\n",
      "Epoch 76/100\n",
      "111/127 [=========================>....] - ETA: 0s - loss: 5.2355 - mean_absolute_error: 5.2355\n",
      "Epoch 00076: val_loss did not improve from 4.93989\n",
      "127/127 [==============================] - 0s 2ms/step - loss: 5.2173 - mean_absolute_error: 5.2173 - val_loss: 4.9401 - val_mean_absolute_error: 4.9401\n",
      "Epoch 77/100\n"
     ]
    },
    {
     "name": "stdout",
     "output_type": "stream",
     "text": [
      "109/127 [========================>.....] - ETA: 0s - loss: 5.2222 - mean_absolute_error: 5.2222\n",
      "Epoch 00077: val_loss did not improve from 4.93989\n",
      "127/127 [==============================] - 0s 2ms/step - loss: 5.2172 - mean_absolute_error: 5.2172 - val_loss: 4.9400 - val_mean_absolute_error: 4.9400\n",
      "Epoch 78/100\n",
      "119/127 [===========================>..] - ETA: 0s - loss: 5.1944 - mean_absolute_error: 5.1944\n",
      "Epoch 00078: val_loss did not improve from 4.93989\n",
      "127/127 [==============================] - 0s 3ms/step - loss: 5.2173 - mean_absolute_error: 5.2173 - val_loss: 4.9399 - val_mean_absolute_error: 4.9399\n",
      "Epoch 79/100\n",
      "104/127 [=======================>......] - ETA: 0s - loss: 5.2096 - mean_absolute_error: 5.2096\n",
      "Epoch 00079: val_loss did not improve from 4.93989\n",
      "127/127 [==============================] - 0s 2ms/step - loss: 5.2180 - mean_absolute_error: 5.2180 - val_loss: 4.9399 - val_mean_absolute_error: 4.9399\n",
      "Epoch 80/100\n",
      "117/127 [==========================>...] - ETA: 0s - loss: 5.2294 - mean_absolute_error: 5.2294\n",
      "Epoch 00080: val_loss did not improve from 4.93989\n",
      "127/127 [==============================] - 0s 3ms/step - loss: 5.2178 - mean_absolute_error: 5.2178 - val_loss: 4.9399 - val_mean_absolute_error: 4.9399\n",
      "Epoch 81/100\n",
      "124/127 [============================>.] - ETA: 0s - loss: 5.2158 - mean_absolute_error: 5.2158\n",
      "Epoch 00081: val_loss did not improve from 4.93989\n",
      "127/127 [==============================] - 0s 3ms/step - loss: 5.2184 - mean_absolute_error: 5.2184 - val_loss: 4.9399 - val_mean_absolute_error: 4.9399\n",
      "Epoch 82/100\n",
      "127/127 [==============================] - ETA: 0s - loss: 5.2174 - mean_absolute_error: 5.2174\n",
      "Epoch 00082: val_loss did not improve from 4.93989\n",
      "127/127 [==============================] - 1s 4ms/step - loss: 5.2174 - mean_absolute_error: 5.2174 - val_loss: 4.9400 - val_mean_absolute_error: 4.9400\n",
      "Epoch 83/100\n",
      "122/127 [===========================>..] - ETA: 0s - loss: 5.2184 - mean_absolute_error: 5.2184\n",
      "Epoch 00083: val_loss did not improve from 4.93989\n",
      "127/127 [==============================] - 0s 3ms/step - loss: 5.2178 - mean_absolute_error: 5.2178 - val_loss: 4.9402 - val_mean_absolute_error: 4.9402\n",
      "Epoch 84/100\n",
      "123/127 [============================>.] - ETA: 0s - loss: 5.2261 - mean_absolute_error: 5.2261\n",
      "Epoch 00084: val_loss did not improve from 4.93989\n",
      "127/127 [==============================] - 0s 4ms/step - loss: 5.2174 - mean_absolute_error: 5.2174 - val_loss: 4.9400 - val_mean_absolute_error: 4.9400\n",
      "Epoch 85/100\n",
      "121/127 [===========================>..] - ETA: 0s - loss: 5.2158 - mean_absolute_error: 5.2158\n",
      "Epoch 00085: val_loss did not improve from 4.93989\n",
      "127/127 [==============================] - 1s 6ms/step - loss: 5.2170 - mean_absolute_error: 5.2170 - val_loss: 4.9400 - val_mean_absolute_error: 4.9400\n",
      "Epoch 86/100\n",
      "122/127 [===========================>..] - ETA: 0s - loss: 5.2286 - mean_absolute_error: 5.2286\n",
      "Epoch 00086: val_loss did not improve from 4.93989\n",
      "127/127 [==============================] - 1s 5ms/step - loss: 5.2177 - mean_absolute_error: 5.2177 - val_loss: 4.9403 - val_mean_absolute_error: 4.9403\n",
      "Epoch 87/100\n",
      "119/127 [===========================>..] - ETA: 0s - loss: 5.1905 - mean_absolute_error: 5.1905\n",
      "Epoch 00087: val_loss did not improve from 4.93989\n",
      "127/127 [==============================] - 1s 6ms/step - loss: 5.2175 - mean_absolute_error: 5.2175 - val_loss: 4.9399 - val_mean_absolute_error: 4.9399\n",
      "Epoch 88/100\n",
      "125/127 [============================>.] - ETA: 0s - loss: 5.2243 - mean_absolute_error: 5.2243\n",
      "Epoch 00088: val_loss did not improve from 4.93989\n",
      "127/127 [==============================] - 1s 5ms/step - loss: 5.2173 - mean_absolute_error: 5.2173 - val_loss: 4.9399 - val_mean_absolute_error: 4.9399\n",
      "Epoch 89/100\n",
      "124/127 [============================>.] - ETA: 0s - loss: 5.2130 - mean_absolute_error: 5.2130\n",
      "Epoch 00089: val_loss did not improve from 4.93989\n",
      "127/127 [==============================] - 0s 4ms/step - loss: 5.2177 - mean_absolute_error: 5.2177 - val_loss: 4.9401 - val_mean_absolute_error: 4.9401\n",
      "Epoch 90/100\n",
      "115/127 [==========================>...] - ETA: 0s - loss: 5.2129 - mean_absolute_error: 5.2129\n",
      "Epoch 00090: val_loss did not improve from 4.93989\n",
      "127/127 [==============================] - 1s 5ms/step - loss: 5.2171 - mean_absolute_error: 5.2171 - val_loss: 4.9399 - val_mean_absolute_error: 4.9399\n",
      "Epoch 91/100\n",
      "125/127 [============================>.] - ETA: 0s - loss: 5.2234 - mean_absolute_error: 5.2234\n",
      "Epoch 00091: val_loss did not improve from 4.93989\n",
      "127/127 [==============================] - 0s 3ms/step - loss: 5.2173 - mean_absolute_error: 5.2173 - val_loss: 4.9401 - val_mean_absolute_error: 4.9401\n",
      "Epoch 92/100\n",
      "118/127 [==========================>...] - ETA: 0s - loss: 5.2135 - mean_absolute_error: 5.2135\n",
      "Epoch 00092: val_loss did not improve from 4.93989\n",
      "127/127 [==============================] - 0s 3ms/step - loss: 5.2172 - mean_absolute_error: 5.2172 - val_loss: 4.9401 - val_mean_absolute_error: 4.9401\n",
      "Epoch 93/100\n",
      "123/127 [============================>.] - ETA: 0s - loss: 5.2331 - mean_absolute_error: 5.2331\n",
      "Epoch 00093: val_loss did not improve from 4.93989\n",
      "127/127 [==============================] - 1s 4ms/step - loss: 5.2176 - mean_absolute_error: 5.2176 - val_loss: 4.9401 - val_mean_absolute_error: 4.9401\n",
      "Epoch 94/100\n",
      "119/127 [===========================>..] - ETA: 0s - loss: 5.2118 - mean_absolute_error: 5.2118\n",
      "Epoch 00094: val_loss did not improve from 4.93989\n",
      "127/127 [==============================] - 0s 4ms/step - loss: 5.2174 - mean_absolute_error: 5.2174 - val_loss: 4.9401 - val_mean_absolute_error: 4.9401\n",
      "Epoch 95/100\n",
      "120/127 [===========================>..] - ETA: 0s - loss: 5.2264 - mean_absolute_error: 5.2264\n",
      "Epoch 00095: val_loss did not improve from 4.93989\n",
      "127/127 [==============================] - 1s 7ms/step - loss: 5.2175 - mean_absolute_error: 5.2175 - val_loss: 4.9401 - val_mean_absolute_error: 4.9401\n",
      "Epoch 96/100\n",
      "122/127 [===========================>..] - ETA: 0s - loss: 5.2274 - mean_absolute_error: 5.2274\n",
      "Epoch 00096: val_loss did not improve from 4.93989\n",
      "127/127 [==============================] - 1s 6ms/step - loss: 5.2173 - mean_absolute_error: 5.2173 - val_loss: 4.9399 - val_mean_absolute_error: 4.9399\n",
      "Epoch 97/100\n",
      "115/127 [==========================>...] - ETA: 0s - loss: 5.2210 - mean_absolute_error: 5.2210\n",
      "Epoch 00097: val_loss did not improve from 4.93989\n",
      "127/127 [==============================] - 1s 5ms/step - loss: 5.2175 - mean_absolute_error: 5.2175 - val_loss: 4.9399 - val_mean_absolute_error: 4.9399\n",
      "Epoch 98/100\n",
      "102/127 [=======================>......] - ETA: 0s - loss: 5.2281 - mean_absolute_error: 5.2281\n",
      "Epoch 00098: val_loss did not improve from 4.93989\n",
      "127/127 [==============================] - 0s 2ms/step - loss: 5.2174 - mean_absolute_error: 5.2174 - val_loss: 4.9400 - val_mean_absolute_error: 4.9400\n",
      "Epoch 99/100\n",
      "124/127 [============================>.] - ETA: 0s - loss: 5.2224 - mean_absolute_error: 5.2224\n",
      "Epoch 00099: val_loss did not improve from 4.93989\n",
      "127/127 [==============================] - 0s 2ms/step - loss: 5.2176 - mean_absolute_error: 5.2176 - val_loss: 4.9400 - val_mean_absolute_error: 4.9400\n",
      "Epoch 100/100\n",
      "118/127 [==========================>...] - ETA: 0s - loss: 5.2125 - mean_absolute_error: 5.2125\n",
      "Epoch 00100: val_loss did not improve from 4.93989\n",
      "127/127 [==============================] - 0s 2ms/step - loss: 5.2177 - mean_absolute_error: 5.2177 - val_loss: 4.9402 - val_mean_absolute_error: 4.9402\n"
     ]
    }
   ],
   "source": [
    "history=ann.fit(x = X_train,y=y_train,batch_size=32,validation_data=data_validate, epochs = 100,callbacks=callbacks_list)"
   ]
  },
  {
   "cell_type": "code",
   "execution_count": 714,
   "metadata": {},
   "outputs": [],
   "source": [
    "wights_file = './weights\\Weights-076--4.93990.hdf5' # choose the best checkpoint \n",
    "ann.load_weights(wights_file) # load it\n",
    "ann.compile(loss='mean_absolute_error', optimizer='adam', metrics=['mean_absolute_error'])"
   ]
  },
  {
   "cell_type": "code",
   "execution_count": 715,
   "metadata": {},
   "outputs": [
    {
     "name": "stdout",
     "output_type": "stream",
     "text": [
      "rmse: 6.019520082408677\n",
      "Mean absolute error: 5.1984799707486795\n"
     ]
    }
   ],
   "source": [
    "y_annpred=ann.predict(X_test)\n",
    "ann_error=np.sqrt(np.mean(np.square(y_test-y_annpred)))\n",
    "print(\"rmse:\",ann_error) #\n",
    "mae = np.abs(y_test-y_annpred).mean()\n",
    "print(\"Mean absolute error:\",mae)"
   ]
  },
  {
   "cell_type": "code",
   "execution_count": 716,
   "metadata": {},
   "outputs": [
    {
     "data": {
      "text/plain": [
       "Text(0.5, 1.0, 'Frequency distribution of difference between true and predicted Tin ')"
      ]
     },
     "execution_count": 716,
     "metadata": {},
     "output_type": "execute_result"
    },
    {
     "data": {
      "image/png": "[encoded data removed]",
      "text/plain": [
       "<Figure size 432x288 with 1 Axes>"
      ]
     },
     "metadata": {
      "needs_background": "light"
     },
     "output_type": "display_data"
    }
   ],
   "source": [
    "xx=[(i) for i in range(y_annpred.shape[0])]\n",
    "plt.figure(1)\n",
    "diff=abs(y_test-y_annpred)\n",
    "#plt.plot(xx,diff)\n",
    "plt.hist(diff)\n",
    "#plt.plot(xx,y_test[0:10,:])\n",
    "#plt.plot(xx,y_annpred[0:10,:])\n",
    "plt.ylabel('Number of data')\n",
    "plt.xlabel('Difference between Real and Predicted Tin (F)')\n",
    "plt.title('Frequency distribution of difference between true and predicted Tin ')"
   ]
  },
  {
   "cell_type": "code",
   "execution_count": 717,
   "metadata": {},
   "outputs": [
    {
     "data": {
      "text/plain": [
       "Text(0.5, 1.0, 'Loss Convergence')"
      ]
     },
     "execution_count": 717,
     "metadata": {},
     "output_type": "execute_result"
    },
    {
     "data": {
      "image/png": "[encoded data removed]",
      "text/plain": [
       "<Figure size 432x288 with 1 Axes>"
      ]
     },
     "metadata": {
      "needs_background": "light"
     },
     "output_type": "display_data"
    }
   ],
   "source": [
    "#print(history.history['loss'])\n",
    "train_loss=history.history['loss']\n",
    "val_loss=history.history['val_loss']\n",
    "xloss=[(i) for i in range(len(train_loss))]\n",
    "plt.plot(xloss,train_loss)\n",
    "plt.plot(xloss,val_loss)\n",
    "plt.xlabel('epochs')\n",
    "plt.ylabel('Mean absolute error')\n",
    "plt.legend(['train loss', 'validation loss'])\n",
    "plt.title('Loss Convergence')"
   ]
  },
  {
   "cell_type": "code",
   "execution_count": 590,
   "metadata": {},
   "outputs": [
    {
     "data": {
      "text/plain": [
       "LinearRegression()"
      ]
     },
     "execution_count": 590,
     "metadata": {},
     "output_type": "execute_result"
    }
   ],
   "source": [
    "regressor = LinearRegression()\n",
    "regressor.fit(X_train, y_train)"
   ]
  },
  {
   "cell_type": "code",
   "execution_count": 591,
   "metadata": {},
   "outputs": [
    {
     "name": "stdout",
     "output_type": "stream",
     "text": [
      "(500, 1)\n",
      "rmse: 5.679910022284737\n",
      "Mean absolute error: 4.837118277128145\n",
      "Range of kWh: 59.80664261150397 kWh to 83.72616819716475 kWh\n"
     ]
    }
   ],
   "source": [
    "y_pred = regressor.predict(X_test) \n",
    "\n",
    "print(y_pred.shape)\n",
    "\n",
    "error=np.sqrt(np.mean(np.square(y_test-y_pred)))  #without dayofweek 4.17803464\n",
    "print(\"rmse:\",error)\n",
    "mae = np.abs(y_test-y_pred).mean()\n",
    "print(\"Mean absolute error:\",mae)\n",
    "print(\"Range of kWh: {} kWh to {} kWh\".format(np.min(y_test),np.max(y_test)))"
   ]
  },
  {
   "cell_type": "code",
   "execution_count": 592,
   "metadata": {},
   "outputs": [
    {
     "data": {
      "text/plain": [
       "Text(0.5, 1.0, 'Frequency distribution of difference between true and predicted Tin ')"
      ]
     },
     "execution_count": 592,
     "metadata": {},
     "output_type": "execute_result"
    },
    {
     "data": {
      "image/png": "[encoded data removed]",
      "text/plain": [
       "<Figure size 432x288 with 1 Axes>"
      ]
     },
     "metadata": {
      "needs_background": "light"
     },
     "output_type": "display_data"
    }
   ],
   "source": [
    "xx=[(i) for i in range(y_annpred.shape[0])]\n",
    "plt.figure(1)\n",
    "diff=abs(y_test-y_annpred)\n",
    "#plt.plot(xx,diff)\n",
    "plt.hist(diff)\n",
    "#plt.plot(xx,y_test[0:10,:])\n",
    "#plt.plot(xx,y_annpred[0:10,:])\n",
    "plt.ylabel('Number of data')\n",
    "plt.xlabel('Difference between Real and Predicted Tin (F)')\n",
    "plt.title('Frequency distribution of difference between true and predicted Tin ')"
   ]
  },
  {
   "cell_type": "code",
   "execution_count": 722,
   "metadata": {},
   "outputs": [],
   "source": [
    "#Random Forest\n",
    "from sklearn.ensemble import RandomForestRegressor"
   ]
  },
  {
   "cell_type": "code",
   "execution_count": 723,
   "metadata": {},
   "outputs": [
    {
     "name": "stderr",
     "output_type": "stream",
     "text": [
      "<ipython-input-723-4ff404880da4>:3: DataConversionWarning: A column-vector y was passed when a 1d array was expected. Please change the shape of y to (n_samples,), for example using ravel().\n",
      "  model.fit(X_train,y_train)\n"
     ]
    },
    {
     "data": {
      "text/plain": [
       "RandomForestRegressor()"
      ]
     },
     "execution_count": 723,
     "metadata": {},
     "output_type": "execute_result"
    }
   ],
   "source": [
    "#Random Forest\n",
    "model = RandomForestRegressor()\n",
    "model.fit(X_train,y_train,shape(5000))"
   ]
  },
  {
   "cell_type": "code",
   "execution_count": null,
   "metadata": {},
   "outputs": [],
   "source": []
  },
  {
   "cell_type": "code",
   "execution_count": null,
   "metadata": {},
   "outputs": [],
   "source": []
  }
 ],
 "metadata": {
  "kernelspec": {
   "display_name": "Python 3",
   "language": "python",
   "name": "python3"
  },
  "language_info": {
   "codemirror_mode": {
    "name": "ipython",
    "version": 3
   },
   "file_extension": ".py",
   "mimetype": "text/x-python",
   "name": "python",
   "nbconvert_exporter": "python",
   "pygments_lexer": "ipython3",
   "version": "3.8.5"
  }
 },
 "nbformat": 4,
 "nbformat_minor": 4
}
